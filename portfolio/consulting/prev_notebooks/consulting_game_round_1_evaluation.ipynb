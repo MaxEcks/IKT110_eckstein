{
 "cells": [
  {
   "cell_type": "markdown",
   "id": "8b6111c2",
   "metadata": {},
   "source": [
    "# Mohamaco Consulting LTD – Consulting Game Report\n",
    "\n",
    "**Team:** Mohamaco Consulting LTD  \n",
    "**Motto:** “Turning data into segelbåts since 2025” \n",
    "**Course:** AI Architecture – Consulting Game  \n",
    "**Client:** Smutsiga Megastore – *Sill og Snus*  \n",
    "**Date:** 16th October 2025\n",
    "\n",
    "---\n",
    "\n",
    "## Project Context\n",
    "As part of the Consulting Game, we were hired by **Torje** from *Smutsiga Megastore* to analyze and improve the performance of his store, **Sill og Snus**, and help him earn enough profit for a shiny new *segelbåt*.\n",
    "\n",
    "We received operational data over multiple rounds (`_0 … _4`).  \n",
    "Our task:  \n",
    "   - understand the data,  \n",
    "   - identify inefficiencies,  \n",
    "   - and implement strategic adjustments for **inventory, pricing, and staff scheduling**.\n",
    "\n",
    "---\n",
    "\n",
    "## What this Notebook Does\n",
    "1. **Data Integration & Validation**  \n",
    "   - Load all available versions and merge product, transaction, supplier, and staffing data.  \n",
    "   - Verify transaction consistency (`merch_types` + `merch_amounts`) and compute derived metrics (revenue, margins).\n",
    "\n",
    "2. **Exploratory Data Analysis (EDA)**  \n",
    "   - Keep essential tables/plots for sales structure and version trends.  \n",
    "\n",
    "3. **Heuristic Optimization (v4)**  \n",
    "   - `amounts_4.json`: more stock for sold-out items  \n",
    "   - `prices_4.json`: +5% for best sellers, −10% for slow movers (with margin floor)  \n",
    "   - `schedules_4.json`: reuse best-performing schedule\n",
    "\n",
    "4. **Impact Evaluation**  \n",
    "   - Compare week 4 vs. prior weeks for sales, revenue, profit, and margins.\n",
    "\n",
    "5. **Lightweight AI (optional)**  \n",
    "   - NumPy least-squares to quantify price/stock effects on sales.\n",
    "\n",
    "6. **Business KPI Dashboard (with real staff costs)**  \n",
    "   - Revenue, product cost, staff cost, net profit, net margin — per version.\n",
    "\n",
    "---\n",
    "\n",
    "## Role of ChatGPT (GPT-5)\n",
    "GPT-5 was used to:\n",
    "- design the multi-version data pipeline and robust transaction parsing,  \n",
    "- consolidate team notebooks while keeping essential EDA outputs,  \n",
    "- implement explainable heuristics and an impact dashboard,  \n",
    "- compute **staff costs per version from workers + schedules**,  \n",
    "- and write concise, presentation-ready documentation."
   ]
  },
  {
   "cell_type": "code",
   "execution_count": 2,
   "id": "5087aa02",
   "metadata": {},
   "outputs": [
    {
     "name": "stdout",
     "output_type": "stream",
     "text": [
      "Detected versions: [0, 1, 2, 3, 4]\n",
      "Data merged.\n"
     ]
    },
    {
     "data": {
      "application/vnd.microsoft.datawrangler.viewer.v0+json": {
       "columns": [
        {
         "name": "index",
         "rawType": "int64",
         "type": "integer"
        },
        {
         "name": "product",
         "rawType": "object",
         "type": "string"
        },
        {
         "name": "amount",
         "rawType": "int64",
         "type": "integer"
        },
        {
         "name": "price",
         "rawType": "float64",
         "type": "float"
        },
        {
         "name": "version",
         "rawType": "int64",
         "type": "integer"
        },
        {
         "name": "qty",
         "rawType": "float64",
         "type": "float"
        },
        {
         "name": "supplier_price",
         "rawType": "float64",
         "type": "float"
        },
        {
         "name": "revenue",
         "rawType": "float64",
         "type": "float"
        },
        {
         "name": "product_cost",
         "rawType": "float64",
         "type": "float"
        },
        {
         "name": "gross_profit",
         "rawType": "float64",
         "type": "float"
        }
       ],
       "ref": "4c331d9a-3f8f-476b-89cb-a52268239b36",
       "rows": [
        [
         "0",
         "batteries",
         "2096",
         "15.85",
         "0",
         "2096.0",
         "12.0",
         "33221.6",
         "25152.0",
         "8069.5999999999985"
        ],
        [
         "1",
         "dinosaur",
         "1947",
         "94.6",
         "0",
         "0.0",
         "65.0",
         "0.0",
         "0.0",
         "0.0"
        ],
        [
         "2",
         "gjokur_ja",
         "69",
         "814.31",
         "0",
         "69.0",
         "580.0",
         "56187.39",
         "40020.0",
         "16167.39"
        ]
       ],
       "shape": {
        "columns": 9,
        "rows": 3
       }
      },
      "text/html": [
       "<div>\n",
       "<style scoped>\n",
       "    .dataframe tbody tr th:only-of-type {\n",
       "        vertical-align: middle;\n",
       "    }\n",
       "\n",
       "    .dataframe tbody tr th {\n",
       "        vertical-align: top;\n",
       "    }\n",
       "\n",
       "    .dataframe thead th {\n",
       "        text-align: right;\n",
       "    }\n",
       "</style>\n",
       "<table border=\"1\" class=\"dataframe\">\n",
       "  <thead>\n",
       "    <tr style=\"text-align: right;\">\n",
       "      <th></th>\n",
       "      <th>product</th>\n",
       "      <th>amount</th>\n",
       "      <th>price</th>\n",
       "      <th>version</th>\n",
       "      <th>qty</th>\n",
       "      <th>supplier_price</th>\n",
       "      <th>revenue</th>\n",
       "      <th>product_cost</th>\n",
       "      <th>gross_profit</th>\n",
       "    </tr>\n",
       "  </thead>\n",
       "  <tbody>\n",
       "    <tr>\n",
       "      <th>0</th>\n",
       "      <td>batteries</td>\n",
       "      <td>2096</td>\n",
       "      <td>15.85</td>\n",
       "      <td>0</td>\n",
       "      <td>2096.0</td>\n",
       "      <td>12.0</td>\n",
       "      <td>33221.60</td>\n",
       "      <td>25152.0</td>\n",
       "      <td>8069.60</td>\n",
       "    </tr>\n",
       "    <tr>\n",
       "      <th>1</th>\n",
       "      <td>dinosaur</td>\n",
       "      <td>1947</td>\n",
       "      <td>94.60</td>\n",
       "      <td>0</td>\n",
       "      <td>0.0</td>\n",
       "      <td>65.0</td>\n",
       "      <td>0.00</td>\n",
       "      <td>0.0</td>\n",
       "      <td>0.00</td>\n",
       "    </tr>\n",
       "    <tr>\n",
       "      <th>2</th>\n",
       "      <td>gjokur_ja</td>\n",
       "      <td>69</td>\n",
       "      <td>814.31</td>\n",
       "      <td>0</td>\n",
       "      <td>69.0</td>\n",
       "      <td>580.0</td>\n",
       "      <td>56187.39</td>\n",
       "      <td>40020.0</td>\n",
       "      <td>16167.39</td>\n",
       "    </tr>\n",
       "  </tbody>\n",
       "</table>\n",
       "</div>"
      ],
      "text/plain": [
       "     product  amount   price  version     qty  supplier_price   revenue  \\\n",
       "0  batteries    2096   15.85        0  2096.0            12.0  33221.60   \n",
       "1   dinosaur    1947   94.60        0     0.0            65.0      0.00   \n",
       "2  gjokur_ja      69  814.31        0    69.0           580.0  56187.39   \n",
       "\n",
       "   product_cost  gross_profit  \n",
       "0       25152.0       8069.60  \n",
       "1           0.0          0.00  \n",
       "2       40020.0      16167.39  "
      ]
     },
     "metadata": {},
     "output_type": "display_data"
    }
   ],
   "source": [
    "# === Section 1 — Load & Combine Data (auto-detect versions) =================\n",
    "import json, os, numpy as np, pandas as pd, matplotlib.pyplot as plt\n",
    "from pathlib import Path\n",
    "\n",
    "plt.style.use(\"ggplot\")\n",
    "\n",
    "# --- Paths -------------------------------------------------------------------\n",
    "DATA_DIR = Path(\"data\")\n",
    "AMOUNTS_DIR = DATA_DIR / \"amounts\"\n",
    "PRICES_DIR = DATA_DIR / \"prices\"\n",
    "TRANSACTIONS_DIR = DATA_DIR / \"transactions\"\n",
    "SCHEDULES_DIR = DATA_DIR / \"schedules\"\n",
    "WORKERS_DIR = DATA_DIR / \"workers\"\n",
    "SUPPLIER_PATH = DATA_DIR / \"supplier_prices.json\"\n",
    "\n",
    "# --- Discover available versions --------------------------------------------\n",
    "def det_versions():\n",
    "    vs = set()\n",
    "    for p in [AMOUNTS_DIR, PRICES_DIR, TRANSACTIONS_DIR, SCHEDULES_DIR]:\n",
    "        if not p.exists(): \n",
    "            continue\n",
    "        for f in p.glob(\"*_[0-9].json\"):\n",
    "            try:\n",
    "                v = int(f.stem.split(\"_\")[-1])\n",
    "                vs.add(v)\n",
    "            except Exception:\n",
    "                pass\n",
    "    return sorted(vs)\n",
    "\n",
    "VERSIONS = det_versions()\n",
    "print(\"Detected versions:\", VERSIONS)\n",
    "if not VERSIONS:\n",
    "    raise RuntimeError(\"No versions found under data/{amounts,prices,transactions,schedules}.\")\n",
    "\n",
    "# --- Helpers -----------------------------------------------------------------\n",
    "def read_json(path: Path): \n",
    "    with open(path, \"r\", encoding=\"utf-8\") as f: \n",
    "        return json.load(f)\n",
    "\n",
    "def load_version_tables(v: int) -> pd.DataFrame:\n",
    "    a = read_json(AMOUNTS_DIR / f\"amounts_{v}.json\")\n",
    "    p = read_json(PRICES_DIR / f\"prices_{v}.json\")\n",
    "    amounts = pd.DataFrame(list(a.items()), columns=[\"product\",\"amount\"])\n",
    "    prices  = pd.DataFrame(list(p.items()), columns=[\"product\",\"price\"])\n",
    "    return amounts.merge(prices, on=\"product\", how=\"outer\").assign(version=v)\n",
    "\n",
    "def load_transactions(v: int) -> pd.DataFrame:\n",
    "    raw = read_json(TRANSACTIONS_DIR / f\"transactions_{v}.json\")\n",
    "    rows = []\n",
    "    for _, txs in raw.items():\n",
    "        for tx in txs:\n",
    "            types, amts = tx.get(\"merch_types\", []), tx.get(\"merch_amounts\", [])\n",
    "            for t, a in zip(types, amts):\n",
    "                rows.append({\"product\": str(t), \"qty\": float(a), \"version\": v, \"worker\": tx.get(\"register_worker\")})\n",
    "    return pd.DataFrame(rows)\n",
    "\n",
    "# --- Core tables -------------------------------------------------------------\n",
    "supplier = pd.DataFrame(list(read_json(SUPPLIER_PATH).items()), columns=[\"product\",\"supplier_price\"])\n",
    "\n",
    "products = pd.concat([load_version_tables(v) for v in VERSIONS], ignore_index=True)\n",
    "transactions = pd.concat([load_transactions(v)   for v in VERSIONS if (TRANSACTIONS_DIR / f\"transactions_{v}.json\").exists()],\n",
    "                         ignore_index=True)\n",
    "\n",
    "# Merge to build analysis frame\n",
    "df = (products\n",
    "      .merge(transactions.groupby([\"version\",\"product\"])[\"qty\"].sum().reset_index(), \n",
    "             on=[\"version\",\"product\"], how=\"left\")\n",
    "      .merge(supplier, on=\"product\", how=\"left\"))\n",
    "\n",
    "df[\"qty\"] = df[\"qty\"].fillna(0.0)\n",
    "df[\"revenue\"] = df[\"qty\"] * df[\"price\"]\n",
    "df[\"product_cost\"] = df[\"qty\"] * df[\"supplier_price\"]\n",
    "df[\"gross_profit\"] = df[\"revenue\"] - df[\"product_cost\"]\n",
    "\n",
    "print(\"Data merged.\")\n",
    "display(df.head(3))"
   ]
  },
  {
   "cell_type": "code",
   "execution_count": 3,
   "id": "c1f9811f",
   "metadata": {},
   "outputs": [
    {
     "name": "stdout",
     "output_type": "stream",
     "text": [
      "Computed staff_cost_by_version: {0: 194596.34, 1: 194596.34, 2: 194596.34, 3: 194596.34, 4: 194596.34}\n",
      "Staff costs integrated into summary_fin.\n"
     ]
    },
    {
     "data": {
      "application/vnd.microsoft.datawrangler.viewer.v0+json": {
       "columns": [
        {
         "name": "index",
         "rawType": "int64",
         "type": "integer"
        },
        {
         "name": "version",
         "rawType": "int64",
         "type": "integer"
        },
        {
         "name": "units_sold",
         "rawType": "float64",
         "type": "float"
        },
        {
         "name": "revenue",
         "rawType": "float64",
         "type": "float"
        },
        {
         "name": "product_cost",
         "rawType": "float64",
         "type": "float"
        },
        {
         "name": "gross_profit",
         "rawType": "float64",
         "type": "float"
        },
        {
         "name": "staff_cost",
         "rawType": "float64",
         "type": "float"
        },
        {
         "name": "net_profit",
         "rawType": "float64",
         "type": "float"
        },
        {
         "name": "net_margin_%",
         "rawType": "float64",
         "type": "float"
        }
       ],
       "ref": "5a78d475-a3dd-44ef-8dbf-59e80ad97080",
       "rows": [
        [
         "0",
         "0",
         "20397.0",
         "1444527.59",
         "1061334.0",
         "383193.59",
         "194596.34",
         "188597.25",
         "13.06"
        ],
        [
         "1",
         "1",
         "20419.0",
         "1053705.7",
         "743237.0",
         "310468.7",
         "194596.34",
         "115872.36",
         "11.0"
        ],
        [
         "2",
         "2",
         "21353.0",
         "801424.92",
         "569282.0",
         "232142.92",
         "194596.34",
         "37546.58",
         "4.68"
        ],
        [
         "3",
         "3",
         "19187.0",
         "1036064.91",
         "748386.0",
         "287678.91",
         "194596.34",
         "93082.57",
         "8.98"
        ],
        [
         "4",
         "4",
         "29138.0",
         "956008.62",
         "668487.0",
         "287521.62",
         "194596.34",
         "92925.28",
         "9.72"
        ]
       ],
       "shape": {
        "columns": 8,
        "rows": 5
       }
      },
      "text/html": [
       "<div>\n",
       "<style scoped>\n",
       "    .dataframe tbody tr th:only-of-type {\n",
       "        vertical-align: middle;\n",
       "    }\n",
       "\n",
       "    .dataframe tbody tr th {\n",
       "        vertical-align: top;\n",
       "    }\n",
       "\n",
       "    .dataframe thead th {\n",
       "        text-align: right;\n",
       "    }\n",
       "</style>\n",
       "<table border=\"1\" class=\"dataframe\">\n",
       "  <thead>\n",
       "    <tr style=\"text-align: right;\">\n",
       "      <th></th>\n",
       "      <th>version</th>\n",
       "      <th>units_sold</th>\n",
       "      <th>revenue</th>\n",
       "      <th>product_cost</th>\n",
       "      <th>gross_profit</th>\n",
       "      <th>staff_cost</th>\n",
       "      <th>net_profit</th>\n",
       "      <th>net_margin_%</th>\n",
       "    </tr>\n",
       "  </thead>\n",
       "  <tbody>\n",
       "    <tr>\n",
       "      <th>0</th>\n",
       "      <td>0</td>\n",
       "      <td>20397.0</td>\n",
       "      <td>1444527.59</td>\n",
       "      <td>1061334.0</td>\n",
       "      <td>383193.59</td>\n",
       "      <td>194596.34</td>\n",
       "      <td>188597.25</td>\n",
       "      <td>13.06</td>\n",
       "    </tr>\n",
       "    <tr>\n",
       "      <th>1</th>\n",
       "      <td>1</td>\n",
       "      <td>20419.0</td>\n",
       "      <td>1053705.70</td>\n",
       "      <td>743237.0</td>\n",
       "      <td>310468.70</td>\n",
       "      <td>194596.34</td>\n",
       "      <td>115872.36</td>\n",
       "      <td>11.00</td>\n",
       "    </tr>\n",
       "    <tr>\n",
       "      <th>2</th>\n",
       "      <td>2</td>\n",
       "      <td>21353.0</td>\n",
       "      <td>801424.92</td>\n",
       "      <td>569282.0</td>\n",
       "      <td>232142.92</td>\n",
       "      <td>194596.34</td>\n",
       "      <td>37546.58</td>\n",
       "      <td>4.68</td>\n",
       "    </tr>\n",
       "    <tr>\n",
       "      <th>3</th>\n",
       "      <td>3</td>\n",
       "      <td>19187.0</td>\n",
       "      <td>1036064.91</td>\n",
       "      <td>748386.0</td>\n",
       "      <td>287678.91</td>\n",
       "      <td>194596.34</td>\n",
       "      <td>93082.57</td>\n",
       "      <td>8.98</td>\n",
       "    </tr>\n",
       "    <tr>\n",
       "      <th>4</th>\n",
       "      <td>4</td>\n",
       "      <td>29138.0</td>\n",
       "      <td>956008.62</td>\n",
       "      <td>668487.0</td>\n",
       "      <td>287521.62</td>\n",
       "      <td>194596.34</td>\n",
       "      <td>92925.28</td>\n",
       "      <td>9.72</td>\n",
       "    </tr>\n",
       "  </tbody>\n",
       "</table>\n",
       "</div>"
      ],
      "text/plain": [
       "   version  units_sold     revenue  product_cost  gross_profit  staff_cost  \\\n",
       "0        0     20397.0  1444527.59     1061334.0     383193.59   194596.34   \n",
       "1        1     20419.0  1053705.70      743237.0     310468.70   194596.34   \n",
       "2        2     21353.0   801424.92      569282.0     232142.92   194596.34   \n",
       "3        3     19187.0  1036064.91      748386.0     287678.91   194596.34   \n",
       "4        4     29138.0   956008.62      668487.0     287521.62   194596.34   \n",
       "\n",
       "   net_profit  net_margin_%  \n",
       "0   188597.25         13.06  \n",
       "1   115872.36         11.00  \n",
       "2    37546.58          4.68  \n",
       "3    93082.57          8.98  \n",
       "4    92925.28          9.72  "
      ]
     },
     "metadata": {},
     "output_type": "display_data"
    }
   ],
   "source": [
    "# === Section 1B — Staff Costs per Version (workers.jsonl × schedules) =======\n",
    "\n",
    "WORKERS_PATH = WORKERS_DIR / \"workers.jsonl\"\n",
    "\n",
    "def read_jsonl(path: Path) -> pd.DataFrame:\n",
    "    rows = []\n",
    "    with open(path, \"r\", encoding=\"utf-8-sig\") as f:\n",
    "        for s in f:\n",
    "            s = s.strip()\n",
    "            if not s: continue\n",
    "            rows.append(json.loads(s))\n",
    "    return pd.DataFrame(rows)\n",
    "\n",
    "# 1) Load workers\n",
    "if not WORKERS_PATH.exists():\n",
    "    raise RuntimeError(f\"Missing workers file: {WORKERS_PATH}\")\n",
    "workers = read_jsonl(WORKERS_PATH)\n",
    "\n",
    "# Normalize worker id and pick salary (we will derive per-shift based on a reference schedule)\n",
    "if \"worker_id\" not in workers.columns:\n",
    "    alt = [c for c in workers.columns if \"worker\" in c and \"id\" in c]\n",
    "    if alt: workers = workers.rename(columns={alt[0]: \"worker_id\"})\n",
    "    else: raise RuntimeError(\"workers.jsonl: cannot find worker_id column.\")\n",
    "workers[\"worker_id\"] = workers[\"worker_id\"].astype(str)\n",
    "\n",
    "# Salary present? (Game files show 'salary' ~ 5.4k–7.8k)\n",
    "if \"salary\" not in workers.columns:\n",
    "    workers[\"salary\"] = np.nan  # will remain NaN if not provided\n",
    "\n",
    "# 2) Load all schedules and flatten\n",
    "def flatten_schedule(v: int) -> pd.DataFrame:\n",
    "    path = SCHEDULES_DIR / f\"schedules_{v}.json\"\n",
    "    if not path.exists(): \n",
    "        return pd.DataFrame(columns=[\"day\",\"worker_id\",\"department\",\"shift\",\"version\"])\n",
    "    raw = read_json(path)\n",
    "    rows = []\n",
    "    for day, entries in raw.items():\n",
    "        for e in entries:\n",
    "            r = {\"day\": day, \"version\": v, **e}\n",
    "            rows.append(r)\n",
    "    df_s = pd.DataFrame(rows)\n",
    "    if \"worker_id\" not in df_s.columns:\n",
    "        alt = [c for c in df_s.columns if \"worker\" in c and \"id\" in c]\n",
    "        if alt: df_s = df_s.rename(columns={alt[0]: \"worker_id\"})\n",
    "    df_s[\"worker_id\"] = df_s[\"worker_id\"].astype(str)\n",
    "    return df_s\n",
    "\n",
    "schedules_all = pd.concat([flatten_schedule(v) for v in VERSIONS if (SCHEDULES_DIR / f\"schedules_{v}.json\").exists()],\n",
    "                          ignore_index=True)\n",
    "\n",
    "# 3) Infer shift multiplier and per-shift cost\n",
    "def shift_mult(val):\n",
    "    try:\n",
    "        x = float(val)\n",
    "        return x if x > 0 else 1.0\n",
    "    except Exception:\n",
    "        return 1.0\n",
    "\n",
    "schedules_all[\"shift_mult\"] = schedules_all.get(\"shift\", 1).apply(shift_mult) if \"shift\" in schedules_all.columns else 1.0\n",
    "\n",
    "# Reference: compute total scheduled shifts per worker in a reference week (latest prior to v4 if present, else v0)\n",
    "ref_candidates = [v for v in VERSIONS if v < max(VERSIONS)] or [min(VERSIONS)]\n",
    "v_ref = max(ref_candidates)\n",
    "ref_sched = schedules_all[schedules_all[\"version\"] == v_ref]\n",
    "shifts_per_worker_ref = ref_sched.groupby(\"worker_id\")[\"shift_mult\"].sum().rename(\"shifts_ref\")\n",
    "\n",
    "workers = workers.merge(shifts_per_worker_ref, on=\"worker_id\", how=\"left\")\n",
    "workers[\"shifts_ref\"] = workers[\"shifts_ref\"].fillna(1.0)\n",
    "\n",
    "# Derive per-shift cost:\n",
    "# If explicit shift cost columns existed, we would use them; else derive as salary / shifts_ref\n",
    "# (Interprets 'salary' as weekly salary for the reference week, which fits the game scale.)\n",
    "workers[\"per_shift_cost\"] = workers[\"salary\"] / workers[\"shifts_ref\"]\n",
    "# Safety: if salary missing, set cost 0 and report later\n",
    "workers.loc[workers[\"per_shift_cost\"].isna(), \"per_shift_cost\"] = 0.0\n",
    "\n",
    "# 4) Compute staff cost per version: sum(per_shift_cost * shift_mult)\n",
    "schedules_all = schedules_all.merge(workers[[\"worker_id\",\"per_shift_cost\"]], on=\"worker_id\", how=\"left\")\n",
    "schedules_all[\"entry_cost\"] = schedules_all[\"per_shift_cost\"].fillna(0.0) * schedules_all[\"shift_mult\"].astype(float)\n",
    "staff_cost_by_version = schedules_all.groupby(\"version\")[\"entry_cost\"].sum().to_dict()\n",
    "\n",
    "print(\"Computed staff_cost_by_version:\", {int(k): round(float(v),2) for k,v in staff_cost_by_version.items()})\n",
    "\n",
    "# 5) Attach to a per-version summary frame (will be used later for KPIs)\n",
    "summary_fin = (\n",
    "    df.groupby(\"version\")[[\"qty\",\"revenue\",\"product_cost\",\"gross_profit\"]]\n",
    "      .sum().reset_index().rename(columns={\"qty\":\"units_sold\"})\n",
    ")\n",
    "summary_fin[\"staff_cost\"] = summary_fin[\"version\"].map(staff_cost_by_version).fillna(0.0)\n",
    "summary_fin[\"net_profit\"] = summary_fin[\"gross_profit\"] - summary_fin[\"staff_cost\"]\n",
    "summary_fin[\"net_margin_%\"] = np.where(summary_fin[\"revenue\"]>0,\n",
    "                                       summary_fin[\"net_profit\"]/summary_fin[\"revenue\"]*100, np.nan)\n",
    "\n",
    "print(\"Staff costs integrated into summary_fin.\")\n",
    "display(summary_fin.round(2))"
   ]
  },
  {
   "cell_type": "markdown",
   "id": "73f22359",
   "metadata": {},
   "source": [
    "## Section 2 — Exploratory Data Analysis (EDA)\n",
    "\n",
    "Core validity checks and high-level trends:\n",
    "- data completeness & top sellers,\n",
    "- sales and revenue per version (before staffing costs),\n",
    "- this sets the baseline for later KPI and impact views."
   ]
  },
  {
   "cell_type": "code",
   "execution_count": 4,
   "id": "22e35b90",
   "metadata": {},
   "outputs": [
    {
     "name": "stdout",
     "output_type": "stream",
     "text": [
      "Dataset overview: [0, 1, 2, 3, 4]\n",
      "Rows: 65  | Products: 13\n",
      "\n",
      "Missing values (key columns):\n"
     ]
    },
    {
     "data": {
      "application/vnd.microsoft.datawrangler.viewer.v0+json": {
       "columns": [
        {
         "name": "index",
         "rawType": "object",
         "type": "string"
        },
        {
         "name": "missing",
         "rawType": "int64",
         "type": "integer"
        }
       ],
       "ref": "90f058ca-bbf5-4de6-8814-570e958abf28",
       "rows": [
        [
         "amount",
         "0"
        ],
        [
         "price",
         "0"
        ],
        [
         "supplier_price",
         "0"
        ],
        [
         "qty",
         "0"
        ],
        [
         "revenue",
         "0"
        ],
        [
         "gross_profit",
         "0"
        ]
       ],
       "shape": {
        "columns": 1,
        "rows": 6
       }
      },
      "text/html": [
       "<div>\n",
       "<style scoped>\n",
       "    .dataframe tbody tr th:only-of-type {\n",
       "        vertical-align: middle;\n",
       "    }\n",
       "\n",
       "    .dataframe tbody tr th {\n",
       "        vertical-align: top;\n",
       "    }\n",
       "\n",
       "    .dataframe thead th {\n",
       "        text-align: right;\n",
       "    }\n",
       "</style>\n",
       "<table border=\"1\" class=\"dataframe\">\n",
       "  <thead>\n",
       "    <tr style=\"text-align: right;\">\n",
       "      <th></th>\n",
       "      <th>missing</th>\n",
       "    </tr>\n",
       "  </thead>\n",
       "  <tbody>\n",
       "    <tr>\n",
       "      <th>amount</th>\n",
       "      <td>0</td>\n",
       "    </tr>\n",
       "    <tr>\n",
       "      <th>price</th>\n",
       "      <td>0</td>\n",
       "    </tr>\n",
       "    <tr>\n",
       "      <th>supplier_price</th>\n",
       "      <td>0</td>\n",
       "    </tr>\n",
       "    <tr>\n",
       "      <th>qty</th>\n",
       "      <td>0</td>\n",
       "    </tr>\n",
       "    <tr>\n",
       "      <th>revenue</th>\n",
       "      <td>0</td>\n",
       "    </tr>\n",
       "    <tr>\n",
       "      <th>gross_profit</th>\n",
       "      <td>0</td>\n",
       "    </tr>\n",
       "  </tbody>\n",
       "</table>\n",
       "</div>"
      ],
      "text/plain": [
       "                missing\n",
       "amount                0\n",
       "price                 0\n",
       "supplier_price        0\n",
       "qty                   0\n",
       "revenue               0\n",
       "gross_profit          0"
      ]
     },
     "metadata": {},
     "output_type": "display_data"
    },
    {
     "name": "stdout",
     "output_type": "stream",
     "text": [
      "\n",
      "Top 10 products by total revenue:\n"
     ]
    },
    {
     "data": {
      "application/vnd.microsoft.datawrangler.viewer.v0+json": {
       "columns": [
        {
         "name": "product",
         "rawType": "object",
         "type": "string"
        },
        {
         "name": "revenue",
         "rawType": "float64",
         "type": "float"
        }
       ],
       "ref": "0b4e1775-58ff-4943-a06e-da52d135ebfa",
       "rows": [
        [
         "mattress",
         "1635204.78"
        ],
        [
         "hammer",
         "928506.93"
        ],
        [
         "sunscreen",
         "547056.94"
        ],
        [
         "laderhosen",
         "375675.63"
        ],
        [
         "rice_porridge",
         "306076.54"
        ],
        [
         "hot_dogs",
         "255783.31999999998"
        ],
        [
         "knives",
         "253839.33"
        ],
        [
         "gjokur_ja",
         "243750.39"
        ],
        [
         "monster",
         "230137.05"
        ],
        [
         "batteries",
         "195749.65999999997"
        ]
       ],
       "shape": {
        "columns": 1,
        "rows": 10
       }
      },
      "text/plain": [
       "product\n",
       "mattress         1635204.78\n",
       "hammer            928506.93\n",
       "sunscreen         547056.94\n",
       "laderhosen        375675.63\n",
       "rice_porridge     306076.54\n",
       "hot_dogs          255783.32\n",
       "knives            253839.33\n",
       "gjokur_ja         243750.39\n",
       "monster           230137.05\n",
       "batteries         195749.66\n",
       "Name: revenue, dtype: float64"
      ]
     },
     "metadata": {},
     "output_type": "display_data"
    },
    {
     "data": {
      "image/png": "[encoded data removed]",
      "text/plain": [
       "<Figure size 700x400 with 1 Axes>"
      ]
     },
     "metadata": {},
     "output_type": "display_data"
    },
    {
     "data": {
      "image/png": "[encoded data removed]",
      "text/plain": [
       "<Figure size 700x400 with 1 Axes>"
      ]
     },
     "metadata": {},
     "output_type": "display_data"
    }
   ],
   "source": [
    "# === Section 2A — Essential EDA =============================================\n",
    "print(\"Dataset overview:\", sorted(df[\"version\"].unique().tolist()))\n",
    "print(\"Rows:\", len(df), \" | Products:\", df[\"product\"].nunique())\n",
    "\n",
    "nulls = df[[\"amount\",\"price\",\"supplier_price\",\"qty\",\"revenue\",\"gross_profit\"]].isna().sum()\n",
    "print(\"\\nMissing values (key columns):\")\n",
    "display(nulls.to_frame(\"missing\"))\n",
    "\n",
    "# Top products by realized revenue (all versions)\n",
    "top_rev = df.groupby(\"product\")[\"revenue\"].sum().sort_values(ascending=False).head(10)\n",
    "print(\"\\nTop 10 products by total revenue:\")\n",
    "display(top_rev)\n",
    "\n",
    "# Sales & revenue trend (product costs not subtracted here)\n",
    "summary_basic = df.groupby(\"version\")[[\"qty\",\"revenue\",\"gross_profit\"]].sum().reset_index()\n",
    "plt.figure(figsize=(7,4))\n",
    "plt.bar(summary_basic[\"version\"], summary_basic[\"revenue\"]/1000)\n",
    "plt.title(\"Total Revenue by Version (k)\")\n",
    "plt.xlabel(\"Version\"); plt.ylabel(\"Revenue [k]\")\n",
    "plt.tight_layout(); plt.show()\n",
    "\n",
    "plt.figure(figsize=(7,4))\n",
    "plt.plot(summary_basic[\"version\"], summary_basic[\"qty\"], marker=\"o\", color=\"orange\")\n",
    "plt.title(\"Units Sold per Version\")\n",
    "plt.xlabel(\"Version\"); plt.ylabel(\"Units Sold\")\n",
    "plt.tight_layout(); plt.show()"
   ]
  },
  {
   "cell_type": "markdown",
   "id": "c6bd3f3e",
   "metadata": {},
   "source": [
    "## Section 3 — Impact of Our Changes (v4 vs. prior)\n",
    "\n",
    "We compare the latest round (`v4`) against the previous round (or best prior) for:\n",
    "- per-product price & amount changes,\n",
    "- quantity and revenue changes,\n",
    "- concise visuals highlighting top movers."
   ]
  },
  {
   "cell_type": "code",
   "execution_count": 5,
   "id": "95c57c5e",
   "metadata": {},
   "outputs": [
    {
     "data": {
      "image/png": "[encoded data removed]",
      "text/plain": [
       "<Figure size 900x400 with 1 Axes>"
      ]
     },
     "metadata": {},
     "output_type": "display_data"
    },
    {
     "data": {
      "image/png": "[encoded data removed]",
      "text/plain": [
       "<Figure size 900x400 with 1 Axes>"
      ]
     },
     "metadata": {},
     "output_type": "display_data"
    },
    {
     "data": {
      "image/png": "[encoded data removed]",
      "text/plain": [
       "<Figure size 600x600 with 1 Axes>"
      ]
     },
     "metadata": {},
     "output_type": "display_data"
    },
    {
     "name": "stdout",
     "output_type": "stream",
     "text": [
      "Totals (vPrev → vNow):\n",
      "- Units:     19187 → 29138 (Δ +9951)\n",
      "- Revenue:   1036.1k → 956.0k (Δ -80.1k)\n",
      "- Prod cost: 748.4k → 668.5k (Δ -79.9k)\n",
      "- Staff cost:194.6k → 194.6k (Δ +0.0k)\n",
      "- Net profit:93.1k → 92.9k (Δ -0.2k)\n"
     ]
    }
   ],
   "source": [
    "# === Section 3 — Impact Diffs ===============================================\n",
    "V_ALL = sorted(df[\"version\"].unique())\n",
    "V_NOW = V_ALL[-1]\n",
    "V_PREV = V_ALL[-2] if len(V_ALL) >= 2 else V_ALL[0]\n",
    "\n",
    "df_prev = df[df[\"version\"] == V_PREV].copy()\n",
    "df_now  = df[df[\"version\"] == V_NOW].copy()\n",
    "\n",
    "keep_cols = [\"product\",\"amount\",\"price\",\"qty\",\"revenue\",\"gross_profit\",\"supplier_price\"]\n",
    "g_prev = df_prev[keep_cols].groupby(\"product\", as_index=False).sum()\n",
    "g_now  = df_now[keep_cols].groupby(\"product\", as_index=False).sum()\n",
    "\n",
    "cmp = g_now.merge(g_prev, on=\"product\", suffixes=(\"_now\",\"_prev\"), how=\"outer\").fillna(0.0)\n",
    "cmp[\"price_delta_pct\"] = (cmp[\"price_now\"] - cmp[\"price_prev\"]) / cmp[\"price_prev\"].replace(0, np.nan) * 100\n",
    "cmp[\"qty_delta\"] = cmp[\"qty_now\"] - cmp[\"qty_prev\"]\n",
    "cmp[\"revenue_delta\"] = cmp[\"revenue_now\"] - cmp[\"revenue_prev\"]\n",
    "\n",
    "# Top movers\n",
    "topN = 10\n",
    "pos = cmp.sort_values(\"revenue_delta\", ascending=False).head(topN)\n",
    "neg = cmp.sort_values(\"revenue_delta\", ascending=True).head(topN)\n",
    "\n",
    "plt.figure(figsize=(9,4))\n",
    "plt.bar(pos[\"product\"], pos[\"revenue_delta\"]/1000, color=\"seagreen\")\n",
    "plt.title(f\"Top {topN} Revenue Gainers (v{V_NOW} - v{V_PREV}) [k]\")\n",
    "plt.xticks(rotation=45, ha=\"right\"); plt.tight_layout(); plt.show()\n",
    "\n",
    "plt.figure(figsize=(9,4))\n",
    "plt.bar(neg[\"product\"], neg[\"revenue_delta\"]/1000, color=\"salmon\")\n",
    "plt.title(f\"Bottom {topN} Revenue Movers (v{V_NOW} - v{V_PREV}) [k]\")\n",
    "plt.xticks(rotation=45, ha=\"right\"); plt.tight_layout(); plt.show()\n",
    "\n",
    "# Elasticity hint: Price Δ vs Qty Δ\n",
    "plt.figure(figsize=(6,6))\n",
    "plt.scatter(cmp[\"price_delta_pct\"], cmp[\"qty_delta\"], alpha=0.6)\n",
    "plt.axhline(0, color=\"gray\", lw=1); plt.axvline(0, color=\"gray\", lw=1)\n",
    "plt.title(f\"Price change (%) vs Quantity change (v{V_NOW} - v{V_PREV})\")\n",
    "plt.xlabel(\"Price Δ [%]\"); plt.ylabel(\"Qty Δ [units]\")\n",
    "plt.tight_layout(); plt.show()\n",
    "\n",
    "# Totals including staffing (use summary_fin from Section 1B)\n",
    "tot_prev = summary_fin.loc[summary_fin[\"version\"]==V_PREV, [\"units_sold\",\"revenue\",\"product_cost\",\"staff_cost\",\"net_profit\"]].sum()\n",
    "tot_now  = summary_fin.loc[summary_fin[\"version\"]==V_NOW,  [\"units_sold\",\"revenue\",\"product_cost\",\"staff_cost\",\"net_profit\"]].sum()\n",
    "\n",
    "print(\"Totals (vPrev → vNow):\")\n",
    "print(f\"- Units:     {tot_prev['units_sold']:.0f} → {tot_now['units_sold']:.0f} (Δ {tot_now['units_sold']-tot_prev['units_sold']:+.0f})\")\n",
    "print(f\"- Revenue:   {tot_prev['revenue']/1000:.1f}k → {tot_now['revenue']/1000:.1f}k (Δ {(tot_now['revenue']-tot_prev['revenue'])/1000:+.1f}k)\")\n",
    "print(f\"- Prod cost: {tot_prev['product_cost']/1000:.1f}k → {tot_now['product_cost']/1000:.1f}k (Δ {(tot_now['product_cost']-tot_prev['product_cost'])/1000:+.1f}k)\")\n",
    "print(f\"- Staff cost:{tot_prev['staff_cost']/1000:.1f}k → {tot_now['staff_cost']/1000:.1f}k (Δ {(tot_now['staff_cost']-tot_prev['staff_cost'])/1000:+.1f}k)\")\n",
    "print(f\"- Net profit:{tot_prev['net_profit']/1000:.1f}k → {tot_now['net_profit']/1000:.1f}k (Δ {(tot_now['net_profit']-tot_prev['net_profit'])/1000:+.1f}k)\")"
   ]
  },
  {
   "cell_type": "markdown",
   "id": "c945a922",
   "metadata": {},
   "source": [
    "## Section 4 — What We Changed\n",
    "\n",
    "| Area | Change Implemented | Reason |\n",
    "|------|--------------------|--------|\n",
    "| **Inventory (amounts)** | Higher stock for sold-out & high-turnover items; safety buffer | Reduce stock-outs & lost sales |\n",
    "| **Pricing (prices)** | +5% for best sellers, −10% for slow movers; margin floor enforced | Balance demand and profit |\n",
    "| **Scheduling (schedules)** | Reused the best-performing schedule | Keep stable throughput, avoid bottlenecks |\n",
    "\n",
    "> Our heuristic strategy aimed to stabilize performance, reduce stock-outs, and maximize profitability while keeping all decisions explainable and low-risk."
   ]
  },
  {
   "cell_type": "code",
   "execution_count": 6,
   "id": "be18d4dd",
   "metadata": {},
   "outputs": [
    {
     "name": "stdout",
     "output_type": "stream",
     "text": [
      "a(price): -2.5867 | b(amount): +0.0810 | c: +1758.93\n",
      "R²: 0.377\n",
      "✓ Higher price → fewer units (expected).\n",
      "✓ More stock → more sales (expected).\n"
     ]
    }
   ],
   "source": [
    "# === Section 5 — Simple NumPy model (optional) ==============================\n",
    "\n",
    "df_lin = df[df[\"version\"].isin([v for v in VERSIONS if v < max(VERSIONS)])].copy()\n",
    "for c in [\"price\",\"amount\",\"qty\"]:\n",
    "    df_lin[c] = pd.to_numeric(df_lin[c], errors=\"coerce\").fillna(0)\n",
    "\n",
    "X = np.c_[df_lin[\"price\"].to_numpy(), df_lin[\"amount\"].to_numpy(), np.ones(len(df_lin))]\n",
    "y = df_lin[\"qty\"].to_numpy()\n",
    "\n",
    "coef, *_ = np.linalg.lstsq(X, y, rcond=None)\n",
    "a_price, b_amount, c0 = coef\n",
    "print(f\"a(price): {a_price:+.4f} | b(amount): {b_amount:+.4f} | c: {c0:+.2f}\")\n",
    "\n",
    "y_pred = X @ coef\n",
    "ss_res = np.sum((y - y_pred)**2)\n",
    "ss_tot = np.sum((y - np.mean(y))**2)\n",
    "r2 = 1 - ss_res/ss_tot if ss_tot>0 else np.nan\n",
    "print(f\"R²: {r2:.3f}\")\n",
    "if a_price < 0: print(\"✓ Higher price → fewer units (expected).\")\n",
    "if b_amount > 0: print(\"✓ More stock → more sales (expected).\")"
   ]
  },
  {
   "cell_type": "markdown",
   "id": "e177366e",
   "metadata": {},
   "source": [
    "## Section 6 — Business Performance & KPI Dashboard\n",
    "\n",
    "We summarize core financial KPIs **per version**, now **including real staff costs** computed from workers × schedules:\n",
    "- Units sold, Revenue, Product Cost, **Staff Cost**, Net Profit, Net Margin\n",
    "- Trend plots + current top sellers"
   ]
  },
  {
   "cell_type": "code",
   "execution_count": 7,
   "id": "e989d7f0",
   "metadata": {},
   "outputs": [
    {
     "data": {
      "application/vnd.microsoft.datawrangler.viewer.v0+json": {
       "columns": [
        {
         "name": "index",
         "rawType": "int64",
         "type": "integer"
        },
        {
         "name": "version",
         "rawType": "int64",
         "type": "integer"
        },
        {
         "name": "units_sold",
         "rawType": "float64",
         "type": "float"
        },
        {
         "name": "revenue",
         "rawType": "float64",
         "type": "float"
        },
        {
         "name": "product_cost",
         "rawType": "float64",
         "type": "float"
        },
        {
         "name": "gross_profit",
         "rawType": "float64",
         "type": "float"
        },
        {
         "name": "staff_cost",
         "rawType": "float64",
         "type": "float"
        },
        {
         "name": "net_profit",
         "rawType": "float64",
         "type": "float"
        },
        {
         "name": "net_margin_%",
         "rawType": "float64",
         "type": "float"
        }
       ],
       "ref": "5aae900c-fe19-47a7-bc7c-d44be86b6bb5",
       "rows": [
        [
         "0",
         "0",
         "20397.0",
         "1444527.59",
         "1061334.0",
         "383193.59",
         "194596.34",
         "188597.25",
         "13.06"
        ],
        [
         "1",
         "1",
         "20419.0",
         "1053705.7",
         "743237.0",
         "310468.7",
         "194596.34",
         "115872.36",
         "11.0"
        ],
        [
         "2",
         "2",
         "21353.0",
         "801424.92",
         "569282.0",
         "232142.92",
         "194596.34",
         "37546.58",
         "4.68"
        ],
        [
         "3",
         "3",
         "19187.0",
         "1036064.91",
         "748386.0",
         "287678.91",
         "194596.34",
         "93082.57",
         "8.98"
        ],
        [
         "4",
         "4",
         "29138.0",
         "956008.62",
         "668487.0",
         "287521.62",
         "194596.34",
         "92925.28",
         "9.72"
        ]
       ],
       "shape": {
        "columns": 8,
        "rows": 5
       }
      },
      "text/html": [
       "<div>\n",
       "<style scoped>\n",
       "    .dataframe tbody tr th:only-of-type {\n",
       "        vertical-align: middle;\n",
       "    }\n",
       "\n",
       "    .dataframe tbody tr th {\n",
       "        vertical-align: top;\n",
       "    }\n",
       "\n",
       "    .dataframe thead th {\n",
       "        text-align: right;\n",
       "    }\n",
       "</style>\n",
       "<table border=\"1\" class=\"dataframe\">\n",
       "  <thead>\n",
       "    <tr style=\"text-align: right;\">\n",
       "      <th></th>\n",
       "      <th>version</th>\n",
       "      <th>units_sold</th>\n",
       "      <th>revenue</th>\n",
       "      <th>product_cost</th>\n",
       "      <th>gross_profit</th>\n",
       "      <th>staff_cost</th>\n",
       "      <th>net_profit</th>\n",
       "      <th>net_margin_%</th>\n",
       "    </tr>\n",
       "  </thead>\n",
       "  <tbody>\n",
       "    <tr>\n",
       "      <th>0</th>\n",
       "      <td>0</td>\n",
       "      <td>20397.0</td>\n",
       "      <td>1444527.59</td>\n",
       "      <td>1061334.0</td>\n",
       "      <td>383193.59</td>\n",
       "      <td>194596.34</td>\n",
       "      <td>188597.25</td>\n",
       "      <td>13.06</td>\n",
       "    </tr>\n",
       "    <tr>\n",
       "      <th>1</th>\n",
       "      <td>1</td>\n",
       "      <td>20419.0</td>\n",
       "      <td>1053705.70</td>\n",
       "      <td>743237.0</td>\n",
       "      <td>310468.70</td>\n",
       "      <td>194596.34</td>\n",
       "      <td>115872.36</td>\n",
       "      <td>11.00</td>\n",
       "    </tr>\n",
       "    <tr>\n",
       "      <th>2</th>\n",
       "      <td>2</td>\n",
       "      <td>21353.0</td>\n",
       "      <td>801424.92</td>\n",
       "      <td>569282.0</td>\n",
       "      <td>232142.92</td>\n",
       "      <td>194596.34</td>\n",
       "      <td>37546.58</td>\n",
       "      <td>4.68</td>\n",
       "    </tr>\n",
       "    <tr>\n",
       "      <th>3</th>\n",
       "      <td>3</td>\n",
       "      <td>19187.0</td>\n",
       "      <td>1036064.91</td>\n",
       "      <td>748386.0</td>\n",
       "      <td>287678.91</td>\n",
       "      <td>194596.34</td>\n",
       "      <td>93082.57</td>\n",
       "      <td>8.98</td>\n",
       "    </tr>\n",
       "    <tr>\n",
       "      <th>4</th>\n",
       "      <td>4</td>\n",
       "      <td>29138.0</td>\n",
       "      <td>956008.62</td>\n",
       "      <td>668487.0</td>\n",
       "      <td>287521.62</td>\n",
       "      <td>194596.34</td>\n",
       "      <td>92925.28</td>\n",
       "      <td>9.72</td>\n",
       "    </tr>\n",
       "  </tbody>\n",
       "</table>\n",
       "</div>"
      ],
      "text/plain": [
       "   version  units_sold     revenue  product_cost  gross_profit  staff_cost  \\\n",
       "0        0     20397.0  1444527.59     1061334.0     383193.59   194596.34   \n",
       "1        1     20419.0  1053705.70      743237.0     310468.70   194596.34   \n",
       "2        2     21353.0   801424.92      569282.0     232142.92   194596.34   \n",
       "3        3     19187.0  1036064.91      748386.0     287678.91   194596.34   \n",
       "4        4     29138.0   956008.62      668487.0     287521.62   194596.34   \n",
       "\n",
       "   net_profit  net_margin_%  \n",
       "0   188597.25         13.06  \n",
       "1   115872.36         11.00  \n",
       "2    37546.58          4.68  \n",
       "3    93082.57          8.98  \n",
       "4    92925.28          9.72  "
      ]
     },
     "metadata": {},
     "output_type": "display_data"
    },
    {
     "data": {
      "image/png": "[encoded data removed]",
      "text/plain": [
       "<Figure size 900x500 with 1 Axes>"
      ]
     },
     "metadata": {},
     "output_type": "display_data"
    },
    {
     "data": {
      "image/png": "[encoded data removed]",
      "text/plain": [
       "<Figure size 700x400 with 1 Axes>"
      ]
     },
     "metadata": {},
     "output_type": "display_data"
    },
    {
     "name": "stdout",
     "output_type": "stream",
     "text": [
      "Top 10 sellers (v4):\n"
     ]
    },
    {
     "data": {
      "application/vnd.microsoft.datawrangler.viewer.v0+json": {
       "columns": [
        {
         "name": "product",
         "rawType": "object",
         "type": "string"
        },
        {
         "name": "qty",
         "rawType": "float64",
         "type": "float"
        },
        {
         "name": "revenue",
         "rawType": "float64",
         "type": "float"
        },
        {
         "name": "gross_profit",
         "rawType": "float64",
         "type": "float"
        }
       ],
       "ref": "e99e0616-49cf-4a88-8c43-9994f44bde00",
       "rows": [
        [
         "hammer",
         "4007.0",
         "254164.01",
         "73849.01000000001"
        ],
        [
         "sunscreen",
         "2921.0",
         "142077.44",
         "39842.44"
        ],
        [
         "laderhosen",
         "345.0",
         "104431.5",
         "28531.5"
        ],
        [
         "rice_porridge",
         "3911.0",
         "90969.86",
         "32304.86"
        ],
        [
         "knives",
         "1356.0",
         "76627.56",
         "25099.559999999998"
        ],
        [
         "hot_dogs",
         "2688.0",
         "69081.59999999999",
         "20697.59999999999"
        ],
        [
         "monster",
         "3111.0",
         "68410.89",
         "18634.89"
        ],
        [
         "batteries",
         "3285.0",
         "57980.24999999999",
         "18560.249999999993"
        ],
        [
         "ice_cream",
         "3437.0",
         "41553.33",
         "14057.330000000002"
        ],
        [
         "nails",
         "4058.0",
         "34411.840000000004",
         "10063.840000000004"
        ]
       ],
       "shape": {
        "columns": 3,
        "rows": 10
       }
      },
      "text/html": [
       "<div>\n",
       "<style scoped>\n",
       "    .dataframe tbody tr th:only-of-type {\n",
       "        vertical-align: middle;\n",
       "    }\n",
       "\n",
       "    .dataframe tbody tr th {\n",
       "        vertical-align: top;\n",
       "    }\n",
       "\n",
       "    .dataframe thead th {\n",
       "        text-align: right;\n",
       "    }\n",
       "</style>\n",
       "<table border=\"1\" class=\"dataframe\">\n",
       "  <thead>\n",
       "    <tr style=\"text-align: right;\">\n",
       "      <th></th>\n",
       "      <th>qty</th>\n",
       "      <th>revenue</th>\n",
       "      <th>gross_profit</th>\n",
       "    </tr>\n",
       "    <tr>\n",
       "      <th>product</th>\n",
       "      <th></th>\n",
       "      <th></th>\n",
       "      <th></th>\n",
       "    </tr>\n",
       "  </thead>\n",
       "  <tbody>\n",
       "    <tr>\n",
       "      <th>hammer</th>\n",
       "      <td>4007.0</td>\n",
       "      <td>254164.01</td>\n",
       "      <td>73849.01</td>\n",
       "    </tr>\n",
       "    <tr>\n",
       "      <th>sunscreen</th>\n",
       "      <td>2921.0</td>\n",
       "      <td>142077.44</td>\n",
       "      <td>39842.44</td>\n",
       "    </tr>\n",
       "    <tr>\n",
       "      <th>laderhosen</th>\n",
       "      <td>345.0</td>\n",
       "      <td>104431.50</td>\n",
       "      <td>28531.50</td>\n",
       "    </tr>\n",
       "    <tr>\n",
       "      <th>rice_porridge</th>\n",
       "      <td>3911.0</td>\n",
       "      <td>90969.86</td>\n",
       "      <td>32304.86</td>\n",
       "    </tr>\n",
       "    <tr>\n",
       "      <th>knives</th>\n",
       "      <td>1356.0</td>\n",
       "      <td>76627.56</td>\n",
       "      <td>25099.56</td>\n",
       "    </tr>\n",
       "    <tr>\n",
       "      <th>hot_dogs</th>\n",
       "      <td>2688.0</td>\n",
       "      <td>69081.60</td>\n",
       "      <td>20697.60</td>\n",
       "    </tr>\n",
       "    <tr>\n",
       "      <th>monster</th>\n",
       "      <td>3111.0</td>\n",
       "      <td>68410.89</td>\n",
       "      <td>18634.89</td>\n",
       "    </tr>\n",
       "    <tr>\n",
       "      <th>batteries</th>\n",
       "      <td>3285.0</td>\n",
       "      <td>57980.25</td>\n",
       "      <td>18560.25</td>\n",
       "    </tr>\n",
       "    <tr>\n",
       "      <th>ice_cream</th>\n",
       "      <td>3437.0</td>\n",
       "      <td>41553.33</td>\n",
       "      <td>14057.33</td>\n",
       "    </tr>\n",
       "    <tr>\n",
       "      <th>nails</th>\n",
       "      <td>4058.0</td>\n",
       "      <td>34411.84</td>\n",
       "      <td>10063.84</td>\n",
       "    </tr>\n",
       "  </tbody>\n",
       "</table>\n",
       "</div>"
      ],
      "text/plain": [
       "                  qty    revenue  gross_profit\n",
       "product                                       \n",
       "hammer         4007.0  254164.01      73849.01\n",
       "sunscreen      2921.0  142077.44      39842.44\n",
       "laderhosen      345.0  104431.50      28531.50\n",
       "rice_porridge  3911.0   90969.86      32304.86\n",
       "knives         1356.0   76627.56      25099.56\n",
       "hot_dogs       2688.0   69081.60      20697.60\n",
       "monster        3111.0   68410.89      18634.89\n",
       "batteries      3285.0   57980.25      18560.25\n",
       "ice_cream      3437.0   41553.33      14057.33\n",
       "nails          4058.0   34411.84      10063.84"
      ]
     },
     "metadata": {},
     "output_type": "display_data"
    }
   ],
   "source": [
    "# === Section 6 — KPIs & Plots ===============================================\n",
    "display(summary_fin.round(2))\n",
    "\n",
    "# Combined bars: revenue, product cost, net profit\n",
    "fig, ax = plt.subplots(figsize=(9,5))\n",
    "x = np.arange(len(summary_fin))\n",
    "w = 0.25\n",
    "ax.bar(x - w, summary_fin[\"revenue\"]/1000, w, label=\"Revenue [k]\")\n",
    "ax.bar(x,      summary_fin[\"product_cost\"]/1000, w, label=\"Product Cost [k]\")\n",
    "ax.bar(x + w,  summary_fin[\"net_profit\"]/1000, w, label=\"Net Profit [k]\")\n",
    "ax.set_xticks(x)\n",
    "ax.set_xticklabels([f\"v{i}\" for i in summary_fin[\"version\"]])\n",
    "ax.set_ylabel(\"Amount [thousands]\")\n",
    "ax.set_title(\"Financial Performance per Version (incl. Staff Costs)\")\n",
    "ax.legend(); plt.tight_layout(); plt.show()\n",
    "\n",
    "# Net margin trend\n",
    "plt.figure(figsize=(7,4))\n",
    "plt.plot(summary_fin[\"version\"], summary_fin[\"net_margin_%\"], marker=\"o\", color=\"darkorange\")\n",
    "plt.title(\"Net Margin (%) per Version (incl. Staff Costs)\")\n",
    "plt.xlabel(\"Version\"); plt.ylabel(\"Net Margin [%]\")\n",
    "plt.tight_layout(); plt.show()\n",
    "\n",
    "# Top sellers current version\n",
    "latest_v = summary_fin[\"version\"].max()\n",
    "latest = df[df[\"version\"]==latest_v]\n",
    "top_sellers = (latest.groupby(\"product\")[[\"qty\",\"revenue\",\"gross_profit\"]].sum()\n",
    "                      .sort_values(\"revenue\", ascending=False).head(10))\n",
    "print(f\"Top 10 sellers (v{latest_v}):\")\n",
    "display(top_sellers)"
   ]
  }
 ],
 "metadata": {
  "kernelspec": {
   "display_name": ".venv",
   "language": "python",
   "name": "python3"
  },
  "language_info": {
   "codemirror_mode": {
    "name": "ipython",
    "version": 3
   },
   "file_extension": ".py",
   "mimetype": "text/x-python",
   "name": "python",
   "nbconvert_exporter": "python",
   "pygments_lexer": "ipython3",
   "version": "3.10.12"
  }
 },
 "nbformat": 4,
 "nbformat_minor": 5
}
