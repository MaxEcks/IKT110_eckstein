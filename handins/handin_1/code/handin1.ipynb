{
 "cells": [
  {
   "cell_type": "markdown",
   "metadata": {},
   "source": [
    "### Handin 1\n",
    "\n",
    "\n",
    "# Info\n",
    "\n",
    "Everything should be completed and approved in person. Groups are fine.\n",
    "\n",
    "The objectives for this handin is:\n",
    "* Playing with numpy.\n",
    "* Plotting with Plotly (as a preparation for using dash (https://plotly.com/dash/) later on)\n",
    "* Train a more complex model using the Fortuna Algorithm.\n",
    "* Route planning for Knut Knut Transport AS. \n",
    "\n",
    "## How to solve?\n",
    "There should be a comment/section stating the objective of a task.  \n",
    "And there should be a commented section labeled # -- CODE --  \n",
    "that shows where to put your code. For tasks that are not answered by code you can either write the answer  \n",
    "as a markup cell or write it on a seperate piece of paper."
   ]
  },
  {
   "cell_type": "code",
   "execution_count": 65,
   "metadata": {},
   "outputs": [
    {
     "name": "stdout",
     "output_type": "stream",
     "text": [
      "Array from 1 to 10:\n",
      "[ 1  2  3  4  5  6  7  8  9 10]\n",
      "<ok>\n"
     ]
    }
   ],
   "source": [
    "import numpy as np\n",
    "\n",
    "\n",
    "# TASK: Create a numpy array containing the whole numbers between 1, 10 (inclusive)\n",
    "\n",
    "# -- CODE --\n",
    "a = np.arange(1,11)\n",
    "print(\"Array from 1 to 10:\")\n",
    "print(a)\n",
    "\n",
    "assert isinstance(a, np.ndarray)\n",
    "assert np.isclose(a, [1,2,3,4,5,6,7,8,9,10]).all()\n",
    "print(\"<ok>\")"
   ]
  },
  {
   "cell_type": "code",
   "execution_count": 66,
   "metadata": {},
   "outputs": [
    {
     "name": "stdout",
     "output_type": "stream",
     "text": [
      "Before reshape:\n",
      "[0 1 2 3 4 5 6 7]\n",
      "After reshape:\n",
      "[[0 1 2 3]\n",
      " [4 5 6 7]]\n",
      "<ok>\n"
     ]
    }
   ],
   "source": [
    "# TASK: Reshape the array a so that it is a 2 by 4 array\n",
    "\n",
    "a = np.array(range(0, 8))\n",
    "# -- CODE --\n",
    "print(\"Before reshape:\")\n",
    "print(a)\n",
    "a = np.reshape(a, (2, 4))\n",
    "print(\"After reshape:\")\n",
    "print(a)\n",
    "\n",
    "assert( a.shape == (2,4) )\n",
    "print(\"<ok>\")"
   ]
  },
  {
   "cell_type": "code",
   "execution_count": 67,
   "metadata": {},
   "outputs": [
    {
     "name": "stdout",
     "output_type": "stream",
     "text": [
      "Before operation:\n",
      "[[1 2 3 4]\n",
      " [5 6 7 8]]\n",
      "After operation:\n",
      "[[ 2  4  6  8]\n",
      " [10 12 14 16]]\n",
      "<ok>\n"
     ]
    }
   ],
   "source": [
    "# TASK: multiply all the numbers in a by 2.\n",
    "\n",
    "a = np.array([[1,2,3,4], [5,6,7,8]])\n",
    "\n",
    "# -- CODE --\n",
    "print(\"Before operation:\")\n",
    "print(a)\n",
    "a *= 2\n",
    "print(\"After operation:\")\n",
    "print(a)\n",
    "\n",
    "assert a.shape == (2,4)\n",
    "assert a.sum() == 72\n",
    "print(\"<ok>\")"
   ]
  },
  {
   "cell_type": "code",
   "execution_count": 68,
   "metadata": {},
   "outputs": [
    {
     "name": "stdout",
     "output_type": "stream",
     "text": [
      "Solution:\n",
      "[10 26]\n",
      "<ok>\n"
     ]
    }
   ],
   "source": [
    "# TASK:  create a numpy array b that contains the sum of each row (axis 1) in a \n",
    "\n",
    "a = np.array([[1,2,3,4], [5,6,7,8]])\n",
    "\n",
    "# -- CODE --\n",
    "b = a.sum(axis=1)\n",
    "print(\"Solution:\")\n",
    "print(b)\n",
    "\n",
    "assert b.shape == (2,)\n",
    "assert (b == [10, 26]).all()\n",
    "print(\"<ok>\")"
   ]
  },
  {
   "cell_type": "code",
   "execution_count": 69,
   "metadata": {},
   "outputs": [
    {
     "name": "stdout",
     "output_type": "stream",
     "text": [
      "Solution:\n",
      "[1. 2. 3. 6.]\n",
      "<ok>\n"
     ]
    }
   ],
   "source": [
    "# TASK:  create a numpy array b that contains the mean value of each column (axis 0) in a \n",
    "a = np.array([[1,2,3,4], [1,2,3,8]])\n",
    "\n",
    "# -- CODE --\n",
    "b = a.mean(axis=0)\n",
    "print(\"Solution:\")\n",
    "print(b)\n",
    "\n",
    "assert b.shape == (4,)\n",
    "assert (b == [1, 2, 3, 6]).all()\n",
    "print(\"<ok>\")"
   ]
  },
  {
   "cell_type": "code",
   "execution_count": 70,
   "metadata": {},
   "outputs": [
    {
     "name": "stdout",
     "output_type": "stream",
     "text": [
      "Solution:\n",
      "[[1 3]\n",
      " [2 4]\n",
      " [3 5]]\n",
      "<ok>\n"
     ]
    }
   ],
   "source": [
    "# TASK:  stack the arrays a, b and c into an array called s (vertically)\n",
    "# s should be equal to s_true (hint, look at the numpy function vstack )\n",
    "\n",
    "a = np.array([1, 3])\n",
    "b = np.array([2, 4])\n",
    "c = np.array([3, 5])\n",
    "\n",
    "# -- CODE --\n",
    "s = np.vstack((a,b,c))\n",
    "print(\"Solution:\")\n",
    "print(s)\n",
    "\n",
    "s_true = np.array([[1, 3], [2, 4], [3, 5]])\n",
    "assert (s_true == s).all()\n",
    "\n",
    "print(\"<ok>\")"
   ]
  },
  {
   "cell_type": "code",
   "execution_count": 71,
   "metadata": {},
   "outputs": [
    {
     "name": "stdout",
     "output_type": "stream",
     "text": [
      "[[[-0.07952811 -0.54965449]\n",
      "  [ 0.5664915  -1.9596258 ]]\n",
      "\n",
      " [[ 0.11743603 -0.42763486]\n",
      "  [ 2.91670602 -0.8551936 ]]]\n",
      "--------------------------------------------------\n",
      "[-0.07952811 -0.54965449  0.5664915  -1.9596258   0.11743603 -0.42763486\n",
      "  2.91670602 -0.8551936 ]\n",
      "<ok>\n"
     ]
    }
   ],
   "source": [
    "# TASK:  Flatten the array a into a 1d array called f (hint: numpy has a function named flatten)\n",
    "\n",
    "a = np.random.randn(2,2,2)\n",
    "print(a)\n",
    "\n",
    "# -- CODE --\n",
    "f = np.ndarray.flatten(a)\n",
    "\n",
    "print(\"-\"*50)\n",
    "print(f)\n",
    "assert f.ndim == 1\n",
    "print(\"<ok>\")"
   ]
  },
  {
   "cell_type": "markdown",
   "metadata": {},
   "source": [
    "## Task 1 -- Plot functions and scatter plots using Plotly \n",
    "\n",
    "Change the code to perform the two following tasks:\n",
    "\n",
    "(See Plotly: https://plotly.com/python/plotly-express/ for more info.)\n",
    "\n",
    "**Line Plot)**\n",
    "\n",
    "Plot the function f(x) = -0.69x^2 + 1.3x + 0.42 over the interval [0, 2.5], with 0.01 increments in x.\n",
    "\n",
    "**Scatter Plot)**  \n",
    "\n",
    "Plot the first 25 Fibbonachi numbers using a scatter plot.\n",
    "(The example shows the first 5).\n",
    "\n",
    "\n"
   ]
  },
  {
   "cell_type": "code",
   "execution_count": 56,
   "metadata": {},
   "outputs": [
    {
     "name": "stdout",
     "output_type": "stream",
     "text": [
      "Requirement already satisfied: plotly in /home/maxge/studies/bachelor_mechatronics/semester_5/exchange_UiA/IKT110_artificial_intelligence_architecture/IKT110_eckstein/.venv/lib/python3.10/site-packages (6.3.0)\n",
      "Requirement already satisfied: packaging in /home/maxge/studies/bachelor_mechatronics/semester_5/exchange_UiA/IKT110_artificial_intelligence_architecture/IKT110_eckstein/.venv/lib/python3.10/site-packages (from plotly) (25.0)\n",
      "Requirement already satisfied: narwhals>=1.15.1 in /home/maxge/studies/bachelor_mechatronics/semester_5/exchange_UiA/IKT110_artificial_intelligence_architecture/IKT110_eckstein/.venv/lib/python3.10/site-packages (from plotly) (2.5.0)\n",
      "Requirement already satisfied: jupyterlab>=3 in /home/maxge/studies/bachelor_mechatronics/semester_5/exchange_UiA/IKT110_artificial_intelligence_architecture/IKT110_eckstein/.venv/lib/python3.10/site-packages (4.4.7)\n",
      "Requirement already satisfied: ipywidgets>=7.6 in /home/maxge/studies/bachelor_mechatronics/semester_5/exchange_UiA/IKT110_artificial_intelligence_architecture/IKT110_eckstein/.venv/lib/python3.10/site-packages (8.1.7)\n",
      "Requirement already satisfied: setuptools>=41.1.0 in /home/maxge/studies/bachelor_mechatronics/semester_5/exchange_UiA/IKT110_artificial_intelligence_architecture/IKT110_eckstein/.venv/lib/python3.10/site-packages (from jupyterlab>=3) (59.6.0)\n",
      "Requirement already satisfied: packaging in /home/maxge/studies/bachelor_mechatronics/semester_5/exchange_UiA/IKT110_artificial_intelligence_architecture/IKT110_eckstein/.venv/lib/python3.10/site-packages (from jupyterlab>=3) (25.0)\n",
      "Requirement already satisfied: tornado>=6.2.0 in /home/maxge/studies/bachelor_mechatronics/semester_5/exchange_UiA/IKT110_artificial_intelligence_architecture/IKT110_eckstein/.venv/lib/python3.10/site-packages (from jupyterlab>=3) (6.5.2)\n",
      "Requirement already satisfied: httpx<1,>=0.25.0 in /home/maxge/studies/bachelor_mechatronics/semester_5/exchange_UiA/IKT110_artificial_intelligence_architecture/IKT110_eckstein/.venv/lib/python3.10/site-packages (from jupyterlab>=3) (0.28.1)\n",
      "Requirement already satisfied: jupyter-core in /home/maxge/studies/bachelor_mechatronics/semester_5/exchange_UiA/IKT110_artificial_intelligence_architecture/IKT110_eckstein/.venv/lib/python3.10/site-packages (from jupyterlab>=3) (5.8.1)\n",
      "Requirement already satisfied: tomli>=1.2.2 in /home/maxge/studies/bachelor_mechatronics/semester_5/exchange_UiA/IKT110_artificial_intelligence_architecture/IKT110_eckstein/.venv/lib/python3.10/site-packages (from jupyterlab>=3) (2.2.1)\n",
      "Requirement already satisfied: jupyterlab-server<3,>=2.27.1 in /home/maxge/studies/bachelor_mechatronics/semester_5/exchange_UiA/IKT110_artificial_intelligence_architecture/IKT110_eckstein/.venv/lib/python3.10/site-packages (from jupyterlab>=3) (2.27.3)\n",
      "Requirement already satisfied: traitlets in /home/maxge/studies/bachelor_mechatronics/semester_5/exchange_UiA/IKT110_artificial_intelligence_architecture/IKT110_eckstein/.venv/lib/python3.10/site-packages (from jupyterlab>=3) (5.14.3)\n",
      "Requirement already satisfied: jupyter-lsp>=2.0.0 in /home/maxge/studies/bachelor_mechatronics/semester_5/exchange_UiA/IKT110_artificial_intelligence_architecture/IKT110_eckstein/.venv/lib/python3.10/site-packages (from jupyterlab>=3) (2.3.0)\n",
      "Requirement already satisfied: jinja2>=3.0.3 in /home/maxge/studies/bachelor_mechatronics/semester_5/exchange_UiA/IKT110_artificial_intelligence_architecture/IKT110_eckstein/.venv/lib/python3.10/site-packages (from jupyterlab>=3) (3.1.6)\n",
      "Requirement already satisfied: async-lru>=1.0.0 in /home/maxge/studies/bachelor_mechatronics/semester_5/exchange_UiA/IKT110_artificial_intelligence_architecture/IKT110_eckstein/.venv/lib/python3.10/site-packages (from jupyterlab>=3) (2.0.5)\n",
      "Requirement already satisfied: jupyter-server<3,>=2.4.0 in /home/maxge/studies/bachelor_mechatronics/semester_5/exchange_UiA/IKT110_artificial_intelligence_architecture/IKT110_eckstein/.venv/lib/python3.10/site-packages (from jupyterlab>=3) (2.17.0)\n",
      "Requirement already satisfied: notebook-shim>=0.2 in /home/maxge/studies/bachelor_mechatronics/semester_5/exchange_UiA/IKT110_artificial_intelligence_architecture/IKT110_eckstein/.venv/lib/python3.10/site-packages (from jupyterlab>=3) (0.2.4)\n",
      "Requirement already satisfied: ipykernel!=6.30.0,>=6.5.0 in /home/maxge/studies/bachelor_mechatronics/semester_5/exchange_UiA/IKT110_artificial_intelligence_architecture/IKT110_eckstein/.venv/lib/python3.10/site-packages (from jupyterlab>=3) (6.30.1)\n",
      "Requirement already satisfied: comm>=0.1.3 in /home/maxge/studies/bachelor_mechatronics/semester_5/exchange_UiA/IKT110_artificial_intelligence_architecture/IKT110_eckstein/.venv/lib/python3.10/site-packages (from ipywidgets>=7.6) (0.2.3)\n",
      "Requirement already satisfied: widgetsnbextension~=4.0.14 in /home/maxge/studies/bachelor_mechatronics/semester_5/exchange_UiA/IKT110_artificial_intelligence_architecture/IKT110_eckstein/.venv/lib/python3.10/site-packages (from ipywidgets>=7.6) (4.0.14)\n",
      "Requirement already satisfied: ipython>=6.1.0 in /home/maxge/studies/bachelor_mechatronics/semester_5/exchange_UiA/IKT110_artificial_intelligence_architecture/IKT110_eckstein/.venv/lib/python3.10/site-packages (from ipywidgets>=7.6) (8.37.0)\n",
      "Requirement already satisfied: jupyterlab_widgets~=3.0.15 in /home/maxge/studies/bachelor_mechatronics/semester_5/exchange_UiA/IKT110_artificial_intelligence_architecture/IKT110_eckstein/.venv/lib/python3.10/site-packages (from ipywidgets>=7.6) (3.0.15)\n",
      "Requirement already satisfied: typing_extensions>=4.0.0 in /home/maxge/studies/bachelor_mechatronics/semester_5/exchange_UiA/IKT110_artificial_intelligence_architecture/IKT110_eckstein/.venv/lib/python3.10/site-packages (from async-lru>=1.0.0->jupyterlab>=3) (4.15.0)\n",
      "Requirement already satisfied: certifi in /home/maxge/studies/bachelor_mechatronics/semester_5/exchange_UiA/IKT110_artificial_intelligence_architecture/IKT110_eckstein/.venv/lib/python3.10/site-packages (from httpx<1,>=0.25.0->jupyterlab>=3) (2025.8.3)\n",
      "Requirement already satisfied: idna in /home/maxge/studies/bachelor_mechatronics/semester_5/exchange_UiA/IKT110_artificial_intelligence_architecture/IKT110_eckstein/.venv/lib/python3.10/site-packages (from httpx<1,>=0.25.0->jupyterlab>=3) (3.10)\n",
      "Requirement already satisfied: httpcore==1.* in /home/maxge/studies/bachelor_mechatronics/semester_5/exchange_UiA/IKT110_artificial_intelligence_architecture/IKT110_eckstein/.venv/lib/python3.10/site-packages (from httpx<1,>=0.25.0->jupyterlab>=3) (1.0.9)\n",
      "Requirement already satisfied: anyio in /home/maxge/studies/bachelor_mechatronics/semester_5/exchange_UiA/IKT110_artificial_intelligence_architecture/IKT110_eckstein/.venv/lib/python3.10/site-packages (from httpx<1,>=0.25.0->jupyterlab>=3) (4.10.0)\n",
      "Requirement already satisfied: h11>=0.16 in /home/maxge/studies/bachelor_mechatronics/semester_5/exchange_UiA/IKT110_artificial_intelligence_architecture/IKT110_eckstein/.venv/lib/python3.10/site-packages (from httpcore==1.*->httpx<1,>=0.25.0->jupyterlab>=3) (0.16.0)\n",
      "Requirement already satisfied: nest-asyncio>=1.4 in /home/maxge/studies/bachelor_mechatronics/semester_5/exchange_UiA/IKT110_artificial_intelligence_architecture/IKT110_eckstein/.venv/lib/python3.10/site-packages (from ipykernel!=6.30.0,>=6.5.0->jupyterlab>=3) (1.6.0)\n",
      "Requirement already satisfied: matplotlib-inline>=0.1 in /home/maxge/studies/bachelor_mechatronics/semester_5/exchange_UiA/IKT110_artificial_intelligence_architecture/IKT110_eckstein/.venv/lib/python3.10/site-packages (from ipykernel!=6.30.0,>=6.5.0->jupyterlab>=3) (0.1.7)\n",
      "Requirement already satisfied: pyzmq>=25 in /home/maxge/studies/bachelor_mechatronics/semester_5/exchange_UiA/IKT110_artificial_intelligence_architecture/IKT110_eckstein/.venv/lib/python3.10/site-packages (from ipykernel!=6.30.0,>=6.5.0->jupyterlab>=3) (27.1.0)\n",
      "Requirement already satisfied: debugpy>=1.6.5 in /home/maxge/studies/bachelor_mechatronics/semester_5/exchange_UiA/IKT110_artificial_intelligence_architecture/IKT110_eckstein/.venv/lib/python3.10/site-packages (from ipykernel!=6.30.0,>=6.5.0->jupyterlab>=3) (1.8.16)\n",
      "Requirement already satisfied: psutil>=5.7 in /home/maxge/studies/bachelor_mechatronics/semester_5/exchange_UiA/IKT110_artificial_intelligence_architecture/IKT110_eckstein/.venv/lib/python3.10/site-packages (from ipykernel!=6.30.0,>=6.5.0->jupyterlab>=3) (7.0.0)\n",
      "Requirement already satisfied: jupyter-client>=8.0.0 in /home/maxge/studies/bachelor_mechatronics/semester_5/exchange_UiA/IKT110_artificial_intelligence_architecture/IKT110_eckstein/.venv/lib/python3.10/site-packages (from ipykernel!=6.30.0,>=6.5.0->jupyterlab>=3) (8.6.3)\n",
      "Requirement already satisfied: pygments>=2.4.0 in /home/maxge/studies/bachelor_mechatronics/semester_5/exchange_UiA/IKT110_artificial_intelligence_architecture/IKT110_eckstein/.venv/lib/python3.10/site-packages (from ipython>=6.1.0->ipywidgets>=7.6) (2.19.2)\n",
      "Requirement already satisfied: jedi>=0.16 in /home/maxge/studies/bachelor_mechatronics/semester_5/exchange_UiA/IKT110_artificial_intelligence_architecture/IKT110_eckstein/.venv/lib/python3.10/site-packages (from ipython>=6.1.0->ipywidgets>=7.6) (0.19.2)\n",
      "Requirement already satisfied: pexpect>4.3 in /home/maxge/studies/bachelor_mechatronics/semester_5/exchange_UiA/IKT110_artificial_intelligence_architecture/IKT110_eckstein/.venv/lib/python3.10/site-packages (from ipython>=6.1.0->ipywidgets>=7.6) (4.9.0)\n",
      "Requirement already satisfied: decorator in /home/maxge/studies/bachelor_mechatronics/semester_5/exchange_UiA/IKT110_artificial_intelligence_architecture/IKT110_eckstein/.venv/lib/python3.10/site-packages (from ipython>=6.1.0->ipywidgets>=7.6) (5.2.1)\n",
      "Requirement already satisfied: prompt_toolkit<3.1.0,>=3.0.41 in /home/maxge/studies/bachelor_mechatronics/semester_5/exchange_UiA/IKT110_artificial_intelligence_architecture/IKT110_eckstein/.venv/lib/python3.10/site-packages (from ipython>=6.1.0->ipywidgets>=7.6) (3.0.52)\n",
      "Requirement already satisfied: stack_data in /home/maxge/studies/bachelor_mechatronics/semester_5/exchange_UiA/IKT110_artificial_intelligence_architecture/IKT110_eckstein/.venv/lib/python3.10/site-packages (from ipython>=6.1.0->ipywidgets>=7.6) (0.6.3)\n",
      "Requirement already satisfied: exceptiongroup in /home/maxge/studies/bachelor_mechatronics/semester_5/exchange_UiA/IKT110_artificial_intelligence_architecture/IKT110_eckstein/.venv/lib/python3.10/site-packages (from ipython>=6.1.0->ipywidgets>=7.6) (1.3.0)\n",
      "Requirement already satisfied: MarkupSafe>=2.0 in /home/maxge/studies/bachelor_mechatronics/semester_5/exchange_UiA/IKT110_artificial_intelligence_architecture/IKT110_eckstein/.venv/lib/python3.10/site-packages (from jinja2>=3.0.3->jupyterlab>=3) (3.0.2)\n",
      "Requirement already satisfied: platformdirs>=2.5 in /home/maxge/studies/bachelor_mechatronics/semester_5/exchange_UiA/IKT110_artificial_intelligence_architecture/IKT110_eckstein/.venv/lib/python3.10/site-packages (from jupyter-core->jupyterlab>=3) (4.4.0)\n",
      "Requirement already satisfied: jupyter-events>=0.11.0 in /home/maxge/studies/bachelor_mechatronics/semester_5/exchange_UiA/IKT110_artificial_intelligence_architecture/IKT110_eckstein/.venv/lib/python3.10/site-packages (from jupyter-server<3,>=2.4.0->jupyterlab>=3) (0.12.0)\n",
      "Requirement already satisfied: nbformat>=5.3.0 in /home/maxge/studies/bachelor_mechatronics/semester_5/exchange_UiA/IKT110_artificial_intelligence_architecture/IKT110_eckstein/.venv/lib/python3.10/site-packages (from jupyter-server<3,>=2.4.0->jupyterlab>=3) (5.10.4)\n",
      "Requirement already satisfied: send2trash>=1.8.2 in /home/maxge/studies/bachelor_mechatronics/semester_5/exchange_UiA/IKT110_artificial_intelligence_architecture/IKT110_eckstein/.venv/lib/python3.10/site-packages (from jupyter-server<3,>=2.4.0->jupyterlab>=3) (1.8.3)\n",
      "Requirement already satisfied: terminado>=0.8.3 in /home/maxge/studies/bachelor_mechatronics/semester_5/exchange_UiA/IKT110_artificial_intelligence_architecture/IKT110_eckstein/.venv/lib/python3.10/site-packages (from jupyter-server<3,>=2.4.0->jupyterlab>=3) (0.18.1)\n",
      "Requirement already satisfied: jupyter-server-terminals>=0.4.4 in /home/maxge/studies/bachelor_mechatronics/semester_5/exchange_UiA/IKT110_artificial_intelligence_architecture/IKT110_eckstein/.venv/lib/python3.10/site-packages (from jupyter-server<3,>=2.4.0->jupyterlab>=3) (0.5.3)\n",
      "Requirement already satisfied: overrides>=5.0 in /home/maxge/studies/bachelor_mechatronics/semester_5/exchange_UiA/IKT110_artificial_intelligence_architecture/IKT110_eckstein/.venv/lib/python3.10/site-packages (from jupyter-server<3,>=2.4.0->jupyterlab>=3) (7.7.0)\n",
      "Requirement already satisfied: prometheus-client>=0.9 in /home/maxge/studies/bachelor_mechatronics/semester_5/exchange_UiA/IKT110_artificial_intelligence_architecture/IKT110_eckstein/.venv/lib/python3.10/site-packages (from jupyter-server<3,>=2.4.0->jupyterlab>=3) (0.22.1)\n",
      "Requirement already satisfied: argon2-cffi>=21.1 in /home/maxge/studies/bachelor_mechatronics/semester_5/exchange_UiA/IKT110_artificial_intelligence_architecture/IKT110_eckstein/.venv/lib/python3.10/site-packages (from jupyter-server<3,>=2.4.0->jupyterlab>=3) (25.1.0)\n",
      "Requirement already satisfied: websocket-client>=1.7 in /home/maxge/studies/bachelor_mechatronics/semester_5/exchange_UiA/IKT110_artificial_intelligence_architecture/IKT110_eckstein/.venv/lib/python3.10/site-packages (from jupyter-server<3,>=2.4.0->jupyterlab>=3) (1.8.0)\n",
      "Requirement already satisfied: nbconvert>=6.4.4 in /home/maxge/studies/bachelor_mechatronics/semester_5/exchange_UiA/IKT110_artificial_intelligence_architecture/IKT110_eckstein/.venv/lib/python3.10/site-packages (from jupyter-server<3,>=2.4.0->jupyterlab>=3) (7.16.6)\n",
      "Requirement already satisfied: requests>=2.31 in /home/maxge/studies/bachelor_mechatronics/semester_5/exchange_UiA/IKT110_artificial_intelligence_architecture/IKT110_eckstein/.venv/lib/python3.10/site-packages (from jupyterlab-server<3,>=2.27.1->jupyterlab>=3) (2.32.5)\n",
      "Requirement already satisfied: jsonschema>=4.18.0 in /home/maxge/studies/bachelor_mechatronics/semester_5/exchange_UiA/IKT110_artificial_intelligence_architecture/IKT110_eckstein/.venv/lib/python3.10/site-packages (from jupyterlab-server<3,>=2.27.1->jupyterlab>=3) (4.25.1)\n",
      "Requirement already satisfied: babel>=2.10 in /home/maxge/studies/bachelor_mechatronics/semester_5/exchange_UiA/IKT110_artificial_intelligence_architecture/IKT110_eckstein/.venv/lib/python3.10/site-packages (from jupyterlab-server<3,>=2.27.1->jupyterlab>=3) (2.17.0)\n",
      "Requirement already satisfied: json5>=0.9.0 in /home/maxge/studies/bachelor_mechatronics/semester_5/exchange_UiA/IKT110_artificial_intelligence_architecture/IKT110_eckstein/.venv/lib/python3.10/site-packages (from jupyterlab-server<3,>=2.27.1->jupyterlab>=3) (0.12.1)\n",
      "Requirement already satisfied: sniffio>=1.1 in /home/maxge/studies/bachelor_mechatronics/semester_5/exchange_UiA/IKT110_artificial_intelligence_architecture/IKT110_eckstein/.venv/lib/python3.10/site-packages (from anyio->httpx<1,>=0.25.0->jupyterlab>=3) (1.3.1)\n",
      "Requirement already satisfied: argon2-cffi-bindings in /home/maxge/studies/bachelor_mechatronics/semester_5/exchange_UiA/IKT110_artificial_intelligence_architecture/IKT110_eckstein/.venv/lib/python3.10/site-packages (from argon2-cffi>=21.1->jupyter-server<3,>=2.4.0->jupyterlab>=3) (25.1.0)\n",
      "Requirement already satisfied: parso<0.9.0,>=0.8.4 in /home/maxge/studies/bachelor_mechatronics/semester_5/exchange_UiA/IKT110_artificial_intelligence_architecture/IKT110_eckstein/.venv/lib/python3.10/site-packages (from jedi>=0.16->ipython>=6.1.0->ipywidgets>=7.6) (0.8.5)\n",
      "Requirement already satisfied: attrs>=22.2.0 in /home/maxge/studies/bachelor_mechatronics/semester_5/exchange_UiA/IKT110_artificial_intelligence_architecture/IKT110_eckstein/.venv/lib/python3.10/site-packages (from jsonschema>=4.18.0->jupyterlab-server<3,>=2.27.1->jupyterlab>=3) (25.3.0)\n",
      "Requirement already satisfied: rpds-py>=0.7.1 in /home/maxge/studies/bachelor_mechatronics/semester_5/exchange_UiA/IKT110_artificial_intelligence_architecture/IKT110_eckstein/.venv/lib/python3.10/site-packages (from jsonschema>=4.18.0->jupyterlab-server<3,>=2.27.1->jupyterlab>=3) (0.27.1)\n",
      "Requirement already satisfied: referencing>=0.28.4 in /home/maxge/studies/bachelor_mechatronics/semester_5/exchange_UiA/IKT110_artificial_intelligence_architecture/IKT110_eckstein/.venv/lib/python3.10/site-packages (from jsonschema>=4.18.0->jupyterlab-server<3,>=2.27.1->jupyterlab>=3) (0.36.2)\n",
      "Requirement already satisfied: jsonschema-specifications>=2023.03.6 in /home/maxge/studies/bachelor_mechatronics/semester_5/exchange_UiA/IKT110_artificial_intelligence_architecture/IKT110_eckstein/.venv/lib/python3.10/site-packages (from jsonschema>=4.18.0->jupyterlab-server<3,>=2.27.1->jupyterlab>=3) (2025.9.1)\n",
      "Requirement already satisfied: python-dateutil>=2.8.2 in /home/maxge/studies/bachelor_mechatronics/semester_5/exchange_UiA/IKT110_artificial_intelligence_architecture/IKT110_eckstein/.venv/lib/python3.10/site-packages (from jupyter-client>=8.0.0->ipykernel!=6.30.0,>=6.5.0->jupyterlab>=3) (2.9.0.post0)\n",
      "Requirement already satisfied: rfc3986-validator>=0.1.1 in /home/maxge/studies/bachelor_mechatronics/semester_5/exchange_UiA/IKT110_artificial_intelligence_architecture/IKT110_eckstein/.venv/lib/python3.10/site-packages (from jupyter-events>=0.11.0->jupyter-server<3,>=2.4.0->jupyterlab>=3) (0.1.1)\n",
      "Requirement already satisfied: rfc3339-validator in /home/maxge/studies/bachelor_mechatronics/semester_5/exchange_UiA/IKT110_artificial_intelligence_architecture/IKT110_eckstein/.venv/lib/python3.10/site-packages (from jupyter-events>=0.11.0->jupyter-server<3,>=2.4.0->jupyterlab>=3) (0.1.4)\n",
      "Requirement already satisfied: python-json-logger>=2.0.4 in /home/maxge/studies/bachelor_mechatronics/semester_5/exchange_UiA/IKT110_artificial_intelligence_architecture/IKT110_eckstein/.venv/lib/python3.10/site-packages (from jupyter-events>=0.11.0->jupyter-server<3,>=2.4.0->jupyterlab>=3) (3.3.0)\n",
      "Requirement already satisfied: pyyaml>=5.3 in /home/maxge/studies/bachelor_mechatronics/semester_5/exchange_UiA/IKT110_artificial_intelligence_architecture/IKT110_eckstein/.venv/lib/python3.10/site-packages (from jupyter-events>=0.11.0->jupyter-server<3,>=2.4.0->jupyterlab>=3) (6.0.2)\n",
      "Requirement already satisfied: nbclient>=0.5.0 in /home/maxge/studies/bachelor_mechatronics/semester_5/exchange_UiA/IKT110_artificial_intelligence_architecture/IKT110_eckstein/.venv/lib/python3.10/site-packages (from nbconvert>=6.4.4->jupyter-server<3,>=2.4.0->jupyterlab>=3) (0.10.2)\n",
      "Requirement already satisfied: bleach[css]!=5.0.0 in /home/maxge/studies/bachelor_mechatronics/semester_5/exchange_UiA/IKT110_artificial_intelligence_architecture/IKT110_eckstein/.venv/lib/python3.10/site-packages (from nbconvert>=6.4.4->jupyter-server<3,>=2.4.0->jupyterlab>=3) (6.2.0)\n",
      "Requirement already satisfied: pandocfilters>=1.4.1 in /home/maxge/studies/bachelor_mechatronics/semester_5/exchange_UiA/IKT110_artificial_intelligence_architecture/IKT110_eckstein/.venv/lib/python3.10/site-packages (from nbconvert>=6.4.4->jupyter-server<3,>=2.4.0->jupyterlab>=3) (1.5.1)\n",
      "Requirement already satisfied: beautifulsoup4 in /home/maxge/studies/bachelor_mechatronics/semester_5/exchange_UiA/IKT110_artificial_intelligence_architecture/IKT110_eckstein/.venv/lib/python3.10/site-packages (from nbconvert>=6.4.4->jupyter-server<3,>=2.4.0->jupyterlab>=3) (4.13.5)\n",
      "Requirement already satisfied: defusedxml in /home/maxge/studies/bachelor_mechatronics/semester_5/exchange_UiA/IKT110_artificial_intelligence_architecture/IKT110_eckstein/.venv/lib/python3.10/site-packages (from nbconvert>=6.4.4->jupyter-server<3,>=2.4.0->jupyterlab>=3) (0.7.1)\n",
      "Requirement already satisfied: mistune<4,>=2.0.3 in /home/maxge/studies/bachelor_mechatronics/semester_5/exchange_UiA/IKT110_artificial_intelligence_architecture/IKT110_eckstein/.venv/lib/python3.10/site-packages (from nbconvert>=6.4.4->jupyter-server<3,>=2.4.0->jupyterlab>=3) (3.1.4)\n",
      "Requirement already satisfied: jupyterlab-pygments in /home/maxge/studies/bachelor_mechatronics/semester_5/exchange_UiA/IKT110_artificial_intelligence_architecture/IKT110_eckstein/.venv/lib/python3.10/site-packages (from nbconvert>=6.4.4->jupyter-server<3,>=2.4.0->jupyterlab>=3) (0.3.0)\n",
      "Requirement already satisfied: fastjsonschema>=2.15 in /home/maxge/studies/bachelor_mechatronics/semester_5/exchange_UiA/IKT110_artificial_intelligence_architecture/IKT110_eckstein/.venv/lib/python3.10/site-packages (from nbformat>=5.3.0->jupyter-server<3,>=2.4.0->jupyterlab>=3) (2.21.2)\n",
      "Requirement already satisfied: ptyprocess>=0.5 in /home/maxge/studies/bachelor_mechatronics/semester_5/exchange_UiA/IKT110_artificial_intelligence_architecture/IKT110_eckstein/.venv/lib/python3.10/site-packages (from pexpect>4.3->ipython>=6.1.0->ipywidgets>=7.6) (0.7.0)\n",
      "Requirement already satisfied: wcwidth in /home/maxge/studies/bachelor_mechatronics/semester_5/exchange_UiA/IKT110_artificial_intelligence_architecture/IKT110_eckstein/.venv/lib/python3.10/site-packages (from prompt_toolkit<3.1.0,>=3.0.41->ipython>=6.1.0->ipywidgets>=7.6) (0.2.13)\n",
      "Requirement already satisfied: charset_normalizer<4,>=2 in /home/maxge/studies/bachelor_mechatronics/semester_5/exchange_UiA/IKT110_artificial_intelligence_architecture/IKT110_eckstein/.venv/lib/python3.10/site-packages (from requests>=2.31->jupyterlab-server<3,>=2.27.1->jupyterlab>=3) (3.4.3)\n",
      "Requirement already satisfied: urllib3<3,>=1.21.1 in /home/maxge/studies/bachelor_mechatronics/semester_5/exchange_UiA/IKT110_artificial_intelligence_architecture/IKT110_eckstein/.venv/lib/python3.10/site-packages (from requests>=2.31->jupyterlab-server<3,>=2.27.1->jupyterlab>=3) (2.5.0)\n",
      "Requirement already satisfied: pure-eval in /home/maxge/studies/bachelor_mechatronics/semester_5/exchange_UiA/IKT110_artificial_intelligence_architecture/IKT110_eckstein/.venv/lib/python3.10/site-packages (from stack_data->ipython>=6.1.0->ipywidgets>=7.6) (0.2.3)\n",
      "Requirement already satisfied: executing>=1.2.0 in /home/maxge/studies/bachelor_mechatronics/semester_5/exchange_UiA/IKT110_artificial_intelligence_architecture/IKT110_eckstein/.venv/lib/python3.10/site-packages (from stack_data->ipython>=6.1.0->ipywidgets>=7.6) (2.2.1)\n",
      "Requirement already satisfied: asttokens>=2.1.0 in /home/maxge/studies/bachelor_mechatronics/semester_5/exchange_UiA/IKT110_artificial_intelligence_architecture/IKT110_eckstein/.venv/lib/python3.10/site-packages (from stack_data->ipython>=6.1.0->ipywidgets>=7.6) (3.0.0)\n",
      "Requirement already satisfied: webencodings in /home/maxge/studies/bachelor_mechatronics/semester_5/exchange_UiA/IKT110_artificial_intelligence_architecture/IKT110_eckstein/.venv/lib/python3.10/site-packages (from bleach[css]!=5.0.0->nbconvert>=6.4.4->jupyter-server<3,>=2.4.0->jupyterlab>=3) (0.5.1)\n",
      "Requirement already satisfied: tinycss2<1.5,>=1.1.0 in /home/maxge/studies/bachelor_mechatronics/semester_5/exchange_UiA/IKT110_artificial_intelligence_architecture/IKT110_eckstein/.venv/lib/python3.10/site-packages (from bleach[css]!=5.0.0->nbconvert>=6.4.4->jupyter-server<3,>=2.4.0->jupyterlab>=3) (1.4.0)\n",
      "Requirement already satisfied: webcolors>=24.6.0 in /home/maxge/studies/bachelor_mechatronics/semester_5/exchange_UiA/IKT110_artificial_intelligence_architecture/IKT110_eckstein/.venv/lib/python3.10/site-packages (from jsonschema>=4.18.0->jupyterlab-server<3,>=2.27.1->jupyterlab>=3) (24.11.1)\n",
      "Requirement already satisfied: fqdn in /home/maxge/studies/bachelor_mechatronics/semester_5/exchange_UiA/IKT110_artificial_intelligence_architecture/IKT110_eckstein/.venv/lib/python3.10/site-packages (from jsonschema>=4.18.0->jupyterlab-server<3,>=2.27.1->jupyterlab>=3) (1.5.1)\n",
      "Requirement already satisfied: uri-template in /home/maxge/studies/bachelor_mechatronics/semester_5/exchange_UiA/IKT110_artificial_intelligence_architecture/IKT110_eckstein/.venv/lib/python3.10/site-packages (from jsonschema>=4.18.0->jupyterlab-server<3,>=2.27.1->jupyterlab>=3) (1.3.0)\n",
      "Requirement already satisfied: jsonpointer>1.13 in /home/maxge/studies/bachelor_mechatronics/semester_5/exchange_UiA/IKT110_artificial_intelligence_architecture/IKT110_eckstein/.venv/lib/python3.10/site-packages (from jsonschema>=4.18.0->jupyterlab-server<3,>=2.27.1->jupyterlab>=3) (3.0.0)\n",
      "Requirement already satisfied: isoduration in /home/maxge/studies/bachelor_mechatronics/semester_5/exchange_UiA/IKT110_artificial_intelligence_architecture/IKT110_eckstein/.venv/lib/python3.10/site-packages (from jsonschema>=4.18.0->jupyterlab-server<3,>=2.27.1->jupyterlab>=3) (20.11.0)\n",
      "Requirement already satisfied: rfc3987-syntax>=1.1.0 in /home/maxge/studies/bachelor_mechatronics/semester_5/exchange_UiA/IKT110_artificial_intelligence_architecture/IKT110_eckstein/.venv/lib/python3.10/site-packages (from jsonschema>=4.18.0->jupyterlab-server<3,>=2.27.1->jupyterlab>=3) (1.1.0)\n",
      "Requirement already satisfied: six>=1.5 in /home/maxge/studies/bachelor_mechatronics/semester_5/exchange_UiA/IKT110_artificial_intelligence_architecture/IKT110_eckstein/.venv/lib/python3.10/site-packages (from python-dateutil>=2.8.2->jupyter-client>=8.0.0->ipykernel!=6.30.0,>=6.5.0->jupyterlab>=3) (1.17.0)\n",
      "Requirement already satisfied: cffi>=1.0.1 in /home/maxge/studies/bachelor_mechatronics/semester_5/exchange_UiA/IKT110_artificial_intelligence_architecture/IKT110_eckstein/.venv/lib/python3.10/site-packages (from argon2-cffi-bindings->argon2-cffi>=21.1->jupyter-server<3,>=2.4.0->jupyterlab>=3) (2.0.0)\n",
      "Requirement already satisfied: soupsieve>1.2 in /home/maxge/studies/bachelor_mechatronics/semester_5/exchange_UiA/IKT110_artificial_intelligence_architecture/IKT110_eckstein/.venv/lib/python3.10/site-packages (from beautifulsoup4->nbconvert>=6.4.4->jupyter-server<3,>=2.4.0->jupyterlab>=3) (2.8)\n",
      "Requirement already satisfied: pycparser in /home/maxge/studies/bachelor_mechatronics/semester_5/exchange_UiA/IKT110_artificial_intelligence_architecture/IKT110_eckstein/.venv/lib/python3.10/site-packages (from cffi>=1.0.1->argon2-cffi-bindings->argon2-cffi>=21.1->jupyter-server<3,>=2.4.0->jupyterlab>=3) (2.23)\n",
      "Requirement already satisfied: lark>=1.2.2 in /home/maxge/studies/bachelor_mechatronics/semester_5/exchange_UiA/IKT110_artificial_intelligence_architecture/IKT110_eckstein/.venv/lib/python3.10/site-packages (from rfc3987-syntax>=1.1.0->jsonschema>=4.18.0->jupyterlab-server<3,>=2.27.1->jupyterlab>=3) (1.2.2)\n",
      "Requirement already satisfied: arrow>=0.15.0 in /home/maxge/studies/bachelor_mechatronics/semester_5/exchange_UiA/IKT110_artificial_intelligence_architecture/IKT110_eckstein/.venv/lib/python3.10/site-packages (from isoduration->jsonschema>=4.18.0->jupyterlab-server<3,>=2.27.1->jupyterlab>=3) (1.3.0)\n",
      "Requirement already satisfied: types-python-dateutil>=2.8.10 in /home/maxge/studies/bachelor_mechatronics/semester_5/exchange_UiA/IKT110_artificial_intelligence_architecture/IKT110_eckstein/.venv/lib/python3.10/site-packages (from arrow>=0.15.0->isoduration->jsonschema>=4.18.0->jupyterlab-server<3,>=2.27.1->jupyterlab>=3) (2.9.0.20250822)\n",
      "You may have to restart jupyter to see graphs in the notebook.\n"
     ]
    }
   ],
   "source": [
    "# installs plotly\n",
    "!pip install plotly\n",
    "!pip install \"jupyterlab>=3\" \"ipywidgets>=7.6\"\n",
    "\n",
    "print(\"You may have to restart jupyter to see graphs in the notebook.\")"
   ]
  },
  {
   "cell_type": "code",
   "execution_count": null,
   "metadata": {},
   "outputs": [
    {
     "data": {
      "application/vnd.plotly.v1+json": {
       "config": {
        "plotlyServerURL": "https://plot.ly"
       },
       "data": [
        {
         "hovertemplate": "x=%{x}<br>y=%{y}<extra></extra>",
         "legendgroup": "",
         "line": {
          "color": "#636efa",
          "dash": "solid"
         },
         "marker": {
          "symbol": "circle"
         },
         "mode": "lines",
         "name": "",
         "orientation": "v",
         "showlegend": false,
         "type": "scatter",
         "x": {
          "bdata": "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",
          "dtype": "f8"
         },
         "xaxis": "x",
         "y": {
          "bdata": "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",
          "dtype": "f8"
         },
         "yaxis": "y"
        }
       ],
       "layout": {
        "legend": {
         "tracegroupgap": 0
        },
        "template": {
         "data": {
          "bar": [
           {
            "error_x": {
             "color": "#2a3f5f"
            },
            "error_y": {
             "color": "#2a3f5f"
            },
            "marker": {
             "line": {
              "color": "#E5ECF6",
              "width": 0.5
             },
             "pattern": {
              "fillmode": "overlay",
              "size": 10,
              "solidity": 0.2
             }
            },
            "type": "bar"
           }
          ],
          "barpolar": [
           {
            "marker": {
             "line": {
              "color": "#E5ECF6",
              "width": 0.5
             },
             "pattern": {
              "fillmode": "overlay",
              "size": 10,
              "solidity": 0.2
             }
            },
            "type": "barpolar"
           }
          ],
          "carpet": [
           {
            "aaxis": {
             "endlinecolor": "#2a3f5f",
             "gridcolor": "white",
             "linecolor": "white",
             "minorgridcolor": "white",
             "startlinecolor": "#2a3f5f"
            },
            "baxis": {
             "endlinecolor": "#2a3f5f",
             "gridcolor": "white",
             "linecolor": "white",
             "minorgridcolor": "white",
             "startlinecolor": "#2a3f5f"
            },
            "type": "carpet"
           }
          ],
          "choropleth": [
           {
            "colorbar": {
             "outlinewidth": 0,
             "ticks": ""
            },
            "type": "choropleth"
           }
          ],
          "contour": [
           {
            "colorbar": {
             "outlinewidth": 0,
             "ticks": ""
            },
            "colorscale": [
             [
              0,
              "#0d0887"
             ],
             [
              0.1111111111111111,
              "#46039f"
             ],
             [
              0.2222222222222222,
              "#7201a8"
             ],
             [
              0.3333333333333333,
              "#9c179e"
             ],
             [
              0.4444444444444444,
              "#bd3786"
             ],
             [
              0.5555555555555556,
              "#d8576b"
             ],
             [
              0.6666666666666666,
              "#ed7953"
             ],
             [
              0.7777777777777778,
              "#fb9f3a"
             ],
             [
              0.8888888888888888,
              "#fdca26"
             ],
             [
              1,
              "#f0f921"
             ]
            ],
            "type": "contour"
           }
          ],
          "contourcarpet": [
           {
            "colorbar": {
             "outlinewidth": 0,
             "ticks": ""
            },
            "type": "contourcarpet"
           }
          ],
          "heatmap": [
           {
            "colorbar": {
             "outlinewidth": 0,
             "ticks": ""
            },
            "colorscale": [
             [
              0,
              "#0d0887"
             ],
             [
              0.1111111111111111,
              "#46039f"
             ],
             [
              0.2222222222222222,
              "#7201a8"
             ],
             [
              0.3333333333333333,
              "#9c179e"
             ],
             [
              0.4444444444444444,
              "#bd3786"
             ],
             [
              0.5555555555555556,
              "#d8576b"
             ],
             [
              0.6666666666666666,
              "#ed7953"
             ],
             [
              0.7777777777777778,
              "#fb9f3a"
             ],
             [
              0.8888888888888888,
              "#fdca26"
             ],
             [
              1,
              "#f0f921"
             ]
            ],
            "type": "heatmap"
           }
          ],
          "histogram": [
           {
            "marker": {
             "pattern": {
              "fillmode": "overlay",
              "size": 10,
              "solidity": 0.2
             }
            },
            "type": "histogram"
           }
          ],
          "histogram2d": [
           {
            "colorbar": {
             "outlinewidth": 0,
             "ticks": ""
            },
            "colorscale": [
             [
              0,
              "#0d0887"
             ],
             [
              0.1111111111111111,
              "#46039f"
             ],
             [
              0.2222222222222222,
              "#7201a8"
             ],
             [
              0.3333333333333333,
              "#9c179e"
             ],
             [
              0.4444444444444444,
              "#bd3786"
             ],
             [
              0.5555555555555556,
              "#d8576b"
             ],
             [
              0.6666666666666666,
              "#ed7953"
             ],
             [
              0.7777777777777778,
              "#fb9f3a"
             ],
             [
              0.8888888888888888,
              "#fdca26"
             ],
             [
              1,
              "#f0f921"
             ]
            ],
            "type": "histogram2d"
           }
          ],
          "histogram2dcontour": [
           {
            "colorbar": {
             "outlinewidth": 0,
             "ticks": ""
            },
            "colorscale": [
             [
              0,
              "#0d0887"
             ],
             [
              0.1111111111111111,
              "#46039f"
             ],
             [
              0.2222222222222222,
              "#7201a8"
             ],
             [
              0.3333333333333333,
              "#9c179e"
             ],
             [
              0.4444444444444444,
              "#bd3786"
             ],
             [
              0.5555555555555556,
              "#d8576b"
             ],
             [
              0.6666666666666666,
              "#ed7953"
             ],
             [
              0.7777777777777778,
              "#fb9f3a"
             ],
             [
              0.8888888888888888,
              "#fdca26"
             ],
             [
              1,
              "#f0f921"
             ]
            ],
            "type": "histogram2dcontour"
           }
          ],
          "mesh3d": [
           {
            "colorbar": {
             "outlinewidth": 0,
             "ticks": ""
            },
            "type": "mesh3d"
           }
          ],
          "parcoords": [
           {
            "line": {
             "colorbar": {
              "outlinewidth": 0,
              "ticks": ""
             }
            },
            "type": "parcoords"
           }
          ],
          "pie": [
           {
            "automargin": true,
            "type": "pie"
           }
          ],
          "scatter": [
           {
            "fillpattern": {
             "fillmode": "overlay",
             "size": 10,
             "solidity": 0.2
            },
            "type": "scatter"
           }
          ],
          "scatter3d": [
           {
            "line": {
             "colorbar": {
              "outlinewidth": 0,
              "ticks": ""
             }
            },
            "marker": {
             "colorbar": {
              "outlinewidth": 0,
              "ticks": ""
             }
            },
            "type": "scatter3d"
           }
          ],
          "scattercarpet": [
           {
            "marker": {
             "colorbar": {
              "outlinewidth": 0,
              "ticks": ""
             }
            },
            "type": "scattercarpet"
           }
          ],
          "scattergeo": [
           {
            "marker": {
             "colorbar": {
              "outlinewidth": 0,
              "ticks": ""
             }
            },
            "type": "scattergeo"
           }
          ],
          "scattergl": [
           {
            "marker": {
             "colorbar": {
              "outlinewidth": 0,
              "ticks": ""
             }
            },
            "type": "scattergl"
           }
          ],
          "scattermap": [
           {
            "marker": {
             "colorbar": {
              "outlinewidth": 0,
              "ticks": ""
             }
            },
            "type": "scattermap"
           }
          ],
          "scattermapbox": [
           {
            "marker": {
             "colorbar": {
              "outlinewidth": 0,
              "ticks": ""
             }
            },
            "type": "scattermapbox"
           }
          ],
          "scatterpolar": [
           {
            "marker": {
             "colorbar": {
              "outlinewidth": 0,
              "ticks": ""
             }
            },
            "type": "scatterpolar"
           }
          ],
          "scatterpolargl": [
           {
            "marker": {
             "colorbar": {
              "outlinewidth": 0,
              "ticks": ""
             }
            },
            "type": "scatterpolargl"
           }
          ],
          "scatterternary": [
           {
            "marker": {
             "colorbar": {
              "outlinewidth": 0,
              "ticks": ""
             }
            },
            "type": "scatterternary"
           }
          ],
          "surface": [
           {
            "colorbar": {
             "outlinewidth": 0,
             "ticks": ""
            },
            "colorscale": [
             [
              0,
              "#0d0887"
             ],
             [
              0.1111111111111111,
              "#46039f"
             ],
             [
              0.2222222222222222,
              "#7201a8"
             ],
             [
              0.3333333333333333,
              "#9c179e"
             ],
             [
              0.4444444444444444,
              "#bd3786"
             ],
             [
              0.5555555555555556,
              "#d8576b"
             ],
             [
              0.6666666666666666,
              "#ed7953"
             ],
             [
              0.7777777777777778,
              "#fb9f3a"
             ],
             [
              0.8888888888888888,
              "#fdca26"
             ],
             [
              1,
              "#f0f921"
             ]
            ],
            "type": "surface"
           }
          ],
          "table": [
           {
            "cells": {
             "fill": {
              "color": "#EBF0F8"
             },
             "line": {
              "color": "white"
             }
            },
            "header": {
             "fill": {
              "color": "#C8D4E3"
             },
             "line": {
              "color": "white"
             }
            },
            "type": "table"
           }
          ]
         },
         "layout": {
          "annotationdefaults": {
           "arrowcolor": "#2a3f5f",
           "arrowhead": 0,
           "arrowwidth": 1
          },
          "autotypenumbers": "strict",
          "coloraxis": {
           "colorbar": {
            "outlinewidth": 0,
            "ticks": ""
           }
          },
          "colorscale": {
           "diverging": [
            [
             0,
             "#8e0152"
            ],
            [
             0.1,
             "#c51b7d"
            ],
            [
             0.2,
             "#de77ae"
            ],
            [
             0.3,
             "#f1b6da"
            ],
            [
             0.4,
             "#fde0ef"
            ],
            [
             0.5,
             "#f7f7f7"
            ],
            [
             0.6,
             "#e6f5d0"
            ],
            [
             0.7,
             "#b8e186"
            ],
            [
             0.8,
             "#7fbc41"
            ],
            [
             0.9,
             "#4d9221"
            ],
            [
             1,
             "#276419"
            ]
           ],
           "sequential": [
            [
             0,
             "#0d0887"
            ],
            [
             0.1111111111111111,
             "#46039f"
            ],
            [
             0.2222222222222222,
             "#7201a8"
            ],
            [
             0.3333333333333333,
             "#9c179e"
            ],
            [
             0.4444444444444444,
             "#bd3786"
            ],
            [
             0.5555555555555556,
             "#d8576b"
            ],
            [
             0.6666666666666666,
             "#ed7953"
            ],
            [
             0.7777777777777778,
             "#fb9f3a"
            ],
            [
             0.8888888888888888,
             "#fdca26"
            ],
            [
             1,
             "#f0f921"
            ]
           ],
           "sequentialminus": [
            [
             0,
             "#0d0887"
            ],
            [
             0.1111111111111111,
             "#46039f"
            ],
            [
             0.2222222222222222,
             "#7201a8"
            ],
            [
             0.3333333333333333,
             "#9c179e"
            ],
            [
             0.4444444444444444,
             "#bd3786"
            ],
            [
             0.5555555555555556,
             "#d8576b"
            ],
            [
             0.6666666666666666,
             "#ed7953"
            ],
            [
             0.7777777777777778,
             "#fb9f3a"
            ],
            [
             0.8888888888888888,
             "#fdca26"
            ],
            [
             1,
             "#f0f921"
            ]
           ]
          },
          "colorway": [
           "#636efa",
           "#EF553B",
           "#00cc96",
           "#ab63fa",
           "#FFA15A",
           "#19d3f3",
           "#FF6692",
           "#B6E880",
           "#FF97FF",
           "#FECB52"
          ],
          "font": {
           "color": "#2a3f5f"
          },
          "geo": {
           "bgcolor": "white",
           "lakecolor": "white",
           "landcolor": "#E5ECF6",
           "showlakes": true,
           "showland": true,
           "subunitcolor": "white"
          },
          "hoverlabel": {
           "align": "left"
          },
          "hovermode": "closest",
          "mapbox": {
           "style": "light"
          },
          "paper_bgcolor": "white",
          "plot_bgcolor": "#E5ECF6",
          "polar": {
           "angularaxis": {
            "gridcolor": "white",
            "linecolor": "white",
            "ticks": ""
           },
           "bgcolor": "#E5ECF6",
           "radialaxis": {
            "gridcolor": "white",
            "linecolor": "white",
            "ticks": ""
           }
          },
          "scene": {
           "xaxis": {
            "backgroundcolor": "#E5ECF6",
            "gridcolor": "white",
            "gridwidth": 2,
            "linecolor": "white",
            "showbackground": true,
            "ticks": "",
            "zerolinecolor": "white"
           },
           "yaxis": {
            "backgroundcolor": "#E5ECF6",
            "gridcolor": "white",
            "gridwidth": 2,
            "linecolor": "white",
            "showbackground": true,
            "ticks": "",
            "zerolinecolor": "white"
           },
           "zaxis": {
            "backgroundcolor": "#E5ECF6",
            "gridcolor": "white",
            "gridwidth": 2,
            "linecolor": "white",
            "showbackground": true,
            "ticks": "",
            "zerolinecolor": "white"
           }
          },
          "shapedefaults": {
           "line": {
            "color": "#2a3f5f"
           }
          },
          "ternary": {
           "aaxis": {
            "gridcolor": "white",
            "linecolor": "white",
            "ticks": ""
           },
           "baxis": {
            "gridcolor": "white",
            "linecolor": "white",
            "ticks": ""
           },
           "bgcolor": "#E5ECF6",
           "caxis": {
            "gridcolor": "white",
            "linecolor": "white",
            "ticks": ""
           }
          },
          "title": {
           "x": 0.05
          },
          "xaxis": {
           "automargin": true,
           "gridcolor": "white",
           "linecolor": "white",
           "ticks": "",
           "title": {
            "standoff": 15
           },
           "zerolinecolor": "white",
           "zerolinewidth": 2
          },
          "yaxis": {
           "automargin": true,
           "gridcolor": "white",
           "linecolor": "white",
           "ticks": "",
           "title": {
            "standoff": 15
           },
           "zerolinecolor": "white",
           "zerolinewidth": 2
          }
         }
        },
        "title": {
         "text": "Line Plot"
        },
        "xaxis": {
         "anchor": "y",
         "domain": [
          0,
          1
         ],
         "range": [
          0,
          3
         ],
         "title": {
          "text": "x"
         }
        },
        "yaxis": {
         "anchor": "x",
         "domain": [
          0,
          1
         ],
         "range": [
          0,
          3
         ],
         "title": {
          "text": "y"
         }
        }
       }
      }
     },
     "metadata": {},
     "output_type": "display_data"
    }
   ],
   "source": [
    "import numpy as np\n",
    "import plotly.express as px\n",
    "\n",
    "\n",
    "# Change this code into the correct Line Plot\n",
    "\n",
    "\"\"\"xs = np.array([1, 1.5, 2, 2.5, 6.0])\n",
    "ys = np.array([1, 2, 3, 3.1, 2.5])\"\"\"\n",
    "\n",
    "xs = np.arange(0, 2.51, 0.01)\n",
    "ys = -0.69*(xs**2) + 1.3*xs + 0.42\n",
    "\n",
    "fig = px.line(x=xs, y=ys, title=\"Line Plot\")\n",
    "fig.update_layout(xaxis_range=[0,3], yaxis_range=[0,3])\n",
    "fig.show()"
   ]
  },
  {
   "cell_type": "code",
   "execution_count": null,
   "metadata": {},
   "outputs": [],
   "source": [
    "# Change this code into the correct Scatter Plot (please take care of the axis)\n",
    "\n",
    "xs = np.array([1, 2, 3, 4, 5])\n",
    "ys = np.array([1, 1, 2, 3, 5])\n",
    "\n",
    "\n",
    "fig = px.scatter(x=xs, y=ys, title=\"Fibbonachi Scatter Plot\")\n",
    "fig.update_layout(xaxis_range=[0,6], yaxis_range=[0,10])\n",
    "fig.show()"
   ]
  },
  {
   "cell_type": "markdown",
   "metadata": {},
   "source": [
    "# Task 2 -- Numpy and curve fitting\n",
    "\n",
    "Fill in the function get_2polynomal_from_3_points(). You are required to use the  \n",
    "function: np.linalg.solve() for the actual computation, i.e. the task is mainly   \n",
    "about shaping the input so it fits the np.linalg.solve() function. Note: dont use polyfit().\n",
    "\n",
    "The function should return a 1d numpy array, with shape = (3,) in the format a, b,c.  \n",
    "Such that ax^2 + bx + c = y, goes through the points p0, p1, p2\n",
    "\n",
    "HINT: How should a matrix equation be formed, so solving it gives us the coefficients for a polynomial?\n",
    "\n",
    "Limitations:\n",
    "* There should be NO loops or ifs! (for/while/if). \n",
    "* Numpy functions that might come handy: reshape, hstack, flatten, ones\n",
    "\n"
   ]
  },
  {
   "cell_type": "code",
   "execution_count": null,
   "metadata": {},
   "outputs": [],
   "source": [
    "import numpy as np\n",
    "\n",
    "def get_2polynomal_from_3_points(p0: np.array, p1: np.array, p2: np.array) -> np.array:\n",
    "    # -- CODE --\n",
    "    \n",
    "\n",
    "point0 = np.array([0.147, 0.596])\n",
    "point1 = np.array([0.7, 0.992])\n",
    "point2 = np.array([2.06, 0.17])\n",
    "\n",
    "polynomial_coefficients = get_2polynomal_from_3_points(point0, point1, point2)\n",
    "assert(polynomial_coefficients.shape[0] == 3 and polynomial_coefficients.ndim == 1)\n",
    "\n",
    "print(\"Polynomial: {:2f}x^2 + {:.2f}x + {:.2f}\".format(*polynomial_coefficients))\n",
    "\n",
    "\n",
    "if not np.isclose(polynomial_coefficients[0], -0.69, atol=0.01):\n",
    "    print(\"x^2 coeff is wrong (a), should be close to -0.69\")\n",
    "    \n",
    "if not np.isclose(polynomial_coefficients[1], 1.3, atol=0.01):\n",
    "    print(\"x coeff is wrong (b), should be close to 1.3\")\n",
    "    \n",
    "if not np.isclose(polynomial_coefficients[2], 0.42, atol=0.01):\n",
    "    print(\"Constant factor (c) is wrong, should be close to 0.42\")\n",
    "    \n",
    "if np.isclose(polynomial_coefficients, [-0.69, 1.3, 0.42], atol=0.01).all():\n",
    "    print(\"Correct polynomial found.\")"
   ]
  },
  {
   "cell_type": "markdown",
   "metadata": {},
   "source": [
    "# Task 3 -- Simple random search\n",
    "\n",
    "Find the triplet $a,b,c \\in \\{x \\;|\\; x \\in \\mathbb{Z} \\text{ and } 450 > x > 0 \\}$ \n",
    "\n",
    "Using a random search in the parameter space. Such that the following relations is satisfied: \n",
    "\n",
    "### a\n",
    "$a = \\begin{cases} c+11, & \\text{if } b\\text{ is even} \\\\ 2c-129, & \\text{if } b\\text{ is odd} \\end{cases}$\n",
    "\n",
    "### b\n",
    "$b = (a \\times c) \\mod 2377$\n",
    "\n",
    "### c\n",
    "$c = \\left( \\sum\\limits_{k=0}^{a-1} b - 7k \\right) + 142$\n",
    "\n",
    "**Also how many guesses were needed?**\n",
    "\n",
    "Note that in math notation $\\sum\\limits_{k=1}^{5}k = 1+2+3+4+5$ \n",
    "\n",
    "Hint (to check if you got the right answer): The product $abc$ should be 255450 $\\pm$ 20 \n",
    "    \n",
    "Can you find any optimizations besides multi-thread/multi-process?"
   ]
  },
  {
   "cell_type": "code",
   "execution_count": null,
   "metadata": {},
   "outputs": [],
   "source": []
  },
  {
   "cell_type": "markdown",
   "metadata": {},
   "source": [
    "# Task 4 -- Revisit the Fortuna Algorithm\n",
    "\n",
    "Below is a implementation of Fortuna that uses fits linear function $f_{\\theta} = a x + b$ where $\\theta = \\{a,b\\}$ to a function $g(x)$.  \n",
    "However, as is evidently from the graph, $g(x)$ is not a linear function.  \n",
    "\n",
    "1) Change the code to instead use $f_{\\theta}(x) = \\sum\\limits_{k=1}^{3} \\Psi_k \\sin(\\gamma_k (x + \\omega_k)) $.  \n",
    "  Such that $|\\theta| = 9$, where each parameter $c$ in $\\theta$ is in $[-4. 4]$.  \n",
    "That is, $f_{\\theta}(x)$ is a sum of three sin terms. **Do not change the range of the sample\\_theta function.**\n",
    "\n",
    "3) However, it seems Fortuna (on average) struggles to find the optimal parameters $\\theta$.  \n",
    "Therefore you will have to innovate and change the Fortuna algorithm so that it faster finds \"better solutions\".\n",
    "What changes did you make and **why** did you make them, and how did you measure how efficient these changes were?  \n",
    "A excellent solution here will have an expected best loss of less than 5 using 100000 guesses. (take the average over 100 runs).\n",
    "**But ANY improvment is sufficient to pass!**  \n",
    "\n",
    "4) Using your newly made modified Fortuna Algorithm optimize the function: $h(x) = \\mu - (\\zeta sin(\\kappa x) )  (\\tau (x + \\lambda))$ .  \n",
    "The y values for this function can be found in the numpy array ys_h_1 (in the code below).  \n",
    "Also test the values for ys_h_2. (the x is the same for all functions).\n",
    "\n",
    "Does your new and improved Fortuna outperform the regular fortuna on this function as well? Why?   \n",
    "**Remember to change your model to match $h(x)$**\n",
    "\n",
    "\n",
    "4) [**Optional**] Develop a multiprocces implemention of the Fortuna algorithm using python's multiprocessing library (https://docs.python.org/3/library/multiprocessing.html).  \n",
    "How are the speed ups? Are Fortuna really suited to parallel execution?\n",
    "\n",
    "\n"
   ]
  },
  {
   "cell_type": "code",
   "execution_count": null,
   "metadata": {},
   "outputs": [
    {
     "name": "stderr",
     "output_type": "stream",
     "text": [
      "100%|██████████| 100000/100000 [00:01<00:00, 52163.29it/s]\n"
     ]
    },
    {
     "name": "stdout",
     "output_type": "stream",
     "text": [
      "best loss: 494.9429241422411\n",
      "theta: [-0.86976485  3.98022404]\n"
     ]
    },
    {
     "data": {
      "application/vnd.plotly.v1+json": {
       "config": {
        "plotlyServerURL": "https://plot.ly"
       },
       "data": [
        {
         "hovertemplate": "x=%{x}<br>y=%{y}<extra></extra>",
         "legendgroup": "",
         "line": {
          "color": "#636efa",
          "dash": "solid"
         },
         "marker": {
          "symbol": "circle"
         },
         "mode": "lines",
         "name": "",
         "orientation": "v",
         "showlegend": false,
         "type": "scatter",
         "x": [
          1,
          1.1,
          1.2,
          1.3,
          1.4,
          1.5,
          1.6,
          1.7,
          1.8,
          1.9,
          2,
          2.1,
          2.2,
          2.3,
          2.4,
          2.5,
          2.6,
          2.7,
          2.8,
          2.9,
          3,
          3.1,
          3.2,
          3.3,
          3.4,
          3.5,
          3.6,
          3.7,
          3.8,
          3.9,
          4,
          4.1,
          4.2,
          4.3,
          4.4,
          4.5,
          4.6,
          4.7,
          4.8,
          4.9,
          5,
          5.1,
          5.2,
          5.3,
          5.4,
          5.5,
          5.6,
          5.7,
          5.8,
          5.9,
          6,
          6.1,
          6.2,
          6.3,
          6.4,
          6.5,
          6.6,
          6.7,
          6.8,
          6.9,
          7,
          7.1,
          7.2,
          7.3,
          7.4
         ],
         "xaxis": "x",
         "y": [
          4.03,
          4.19,
          4.26,
          4.25,
          4.17,
          4.03,
          3.85,
          3.63,
          3.4,
          3.16,
          2.93,
          2.72,
          2.53,
          2.39,
          2.28,
          2.21,
          2.18,
          2.19,
          2.22,
          2.27,
          2.33,
          2.39,
          2.44,
          2.45,
          2.43,
          2.36,
          2.22,
          2.02,
          1.75,
          1.41,
          1,
          0.52,
          -0.01,
          -0.6,
          -1.22,
          -1.86,
          -2.5,
          -3.13,
          -3.72,
          -4.27,
          -4.75,
          -5.15,
          -5.45,
          -5.65,
          -5.74,
          -5.7,
          -5.55,
          -5.29,
          -4.92,
          -4.44,
          -3.89,
          -3.26,
          -2.58,
          -1.86,
          -1.12,
          -0.39,
          0.32,
          0.98,
          1.6,
          2.14,
          2.61,
          2.99,
          3.28,
          3.47,
          3.57
         ],
         "yaxis": "y"
        },
        {
         "mode": "lines",
         "name": "y_hat",
         "type": "scatter",
         "x": [
          1,
          1.1,
          1.2,
          1.3,
          1.4,
          1.5,
          1.6,
          1.7,
          1.8,
          1.9,
          2,
          2.1,
          2.2,
          2.3,
          2.4,
          2.5,
          2.6,
          2.7,
          2.8,
          2.9,
          3,
          3.1,
          3.2,
          3.3,
          3.4,
          3.5,
          3.6,
          3.7,
          3.8,
          3.9,
          4,
          4.1,
          4.2,
          4.3,
          4.4,
          4.5,
          4.6,
          4.7,
          4.8,
          4.9,
          5,
          5.1,
          5.2,
          5.3,
          5.4,
          5.5,
          5.6,
          5.7,
          5.8,
          5.9,
          6,
          6.1,
          6.2,
          6.3,
          6.4,
          6.5,
          6.6,
          6.7,
          6.8,
          6.9,
          7,
          7.1,
          7.2,
          7.3,
          7.4
         ],
         "y": [
          3.110459188922552,
          3.023482703664917,
          2.936506218407282,
          2.8495297331496463,
          2.7625532478920114,
          2.6755767626343765,
          2.5886002773767416,
          2.5016237921191067,
          2.414647306861471,
          2.327670821603836,
          2.240694336346201,
          2.153717851088566,
          2.066741365830931,
          1.979764880573296,
          1.892788395315661,
          1.8058119100580257,
          1.7188354248003903,
          1.6318589395427554,
          1.5448824542851205,
          1.4579059690274856,
          1.3709294837698502,
          1.283952998512215,
          1.19697651325458,
          1.110000027996945,
          1.0230235427393102,
          0.9360470574816748,
          0.8490705722240395,
          0.7620940869664046,
          0.6751176017087697,
          0.5881411164511348,
          0.5011646311934994,
          0.4141881459358645,
          0.32721166067822915,
          0.24023517542059425,
          0.1532586901629589,
          0.066282204905324,
          -0.020694280352310912,
          -0.1076707656099467,
          -0.19464725086758072,
          -0.2816237361252165,
          -0.3686002213828514,
          -0.45557670664048633,
          -0.5425531918981221,
          -0.6295296771557561,
          -0.7165061624133919,
          -0.8034826476710268,
          -0.8904591329286617,
          -0.9774356181862975,
          -1.0644121034439316,
          -1.1513885887015674,
          -1.2383650739592023,
          -1.3253415592168372,
          -1.412318044474473,
          -1.499294529732107,
          -1.5862710149897428,
          -1.6732475002473777,
          -1.7602239855050126,
          -1.8472004707626484,
          -1.9341769560202824,
          -2.021153441277918,
          -2.108129926535553,
          -2.195106411793188,
          -2.282082897050824,
          -2.369059382308458,
          -2.4560358675660936
         ]
        }
       ],
       "layout": {
        "legend": {
         "tracegroupgap": 0
        },
        "template": {
         "data": {
          "bar": [
           {
            "error_x": {
             "color": "#2a3f5f"
            },
            "error_y": {
             "color": "#2a3f5f"
            },
            "marker": {
             "line": {
              "color": "#E5ECF6",
              "width": 0.5
             },
             "pattern": {
              "fillmode": "overlay",
              "size": 10,
              "solidity": 0.2
             }
            },
            "type": "bar"
           }
          ],
          "barpolar": [
           {
            "marker": {
             "line": {
              "color": "#E5ECF6",
              "width": 0.5
             },
             "pattern": {
              "fillmode": "overlay",
              "size": 10,
              "solidity": 0.2
             }
            },
            "type": "barpolar"
           }
          ],
          "carpet": [
           {
            "aaxis": {
             "endlinecolor": "#2a3f5f",
             "gridcolor": "white",
             "linecolor": "white",
             "minorgridcolor": "white",
             "startlinecolor": "#2a3f5f"
            },
            "baxis": {
             "endlinecolor": "#2a3f5f",
             "gridcolor": "white",
             "linecolor": "white",
             "minorgridcolor": "white",
             "startlinecolor": "#2a3f5f"
            },
            "type": "carpet"
           }
          ],
          "choropleth": [
           {
            "colorbar": {
             "outlinewidth": 0,
             "ticks": ""
            },
            "type": "choropleth"
           }
          ],
          "contour": [
           {
            "colorbar": {
             "outlinewidth": 0,
             "ticks": ""
            },
            "colorscale": [
             [
              0,
              "#0d0887"
             ],
             [
              0.1111111111111111,
              "#46039f"
             ],
             [
              0.2222222222222222,
              "#7201a8"
             ],
             [
              0.3333333333333333,
              "#9c179e"
             ],
             [
              0.4444444444444444,
              "#bd3786"
             ],
             [
              0.5555555555555556,
              "#d8576b"
             ],
             [
              0.6666666666666666,
              "#ed7953"
             ],
             [
              0.7777777777777778,
              "#fb9f3a"
             ],
             [
              0.8888888888888888,
              "#fdca26"
             ],
             [
              1,
              "#f0f921"
             ]
            ],
            "type": "contour"
           }
          ],
          "contourcarpet": [
           {
            "colorbar": {
             "outlinewidth": 0,
             "ticks": ""
            },
            "type": "contourcarpet"
           }
          ],
          "heatmap": [
           {
            "colorbar": {
             "outlinewidth": 0,
             "ticks": ""
            },
            "colorscale": [
             [
              0,
              "#0d0887"
             ],
             [
              0.1111111111111111,
              "#46039f"
             ],
             [
              0.2222222222222222,
              "#7201a8"
             ],
             [
              0.3333333333333333,
              "#9c179e"
             ],
             [
              0.4444444444444444,
              "#bd3786"
             ],
             [
              0.5555555555555556,
              "#d8576b"
             ],
             [
              0.6666666666666666,
              "#ed7953"
             ],
             [
              0.7777777777777778,
              "#fb9f3a"
             ],
             [
              0.8888888888888888,
              "#fdca26"
             ],
             [
              1,
              "#f0f921"
             ]
            ],
            "type": "heatmap"
           }
          ],
          "heatmapgl": [
           {
            "colorbar": {
             "outlinewidth": 0,
             "ticks": ""
            },
            "colorscale": [
             [
              0,
              "#0d0887"
             ],
             [
              0.1111111111111111,
              "#46039f"
             ],
             [
              0.2222222222222222,
              "#7201a8"
             ],
             [
              0.3333333333333333,
              "#9c179e"
             ],
             [
              0.4444444444444444,
              "#bd3786"
             ],
             [
              0.5555555555555556,
              "#d8576b"
             ],
             [
              0.6666666666666666,
              "#ed7953"
             ],
             [
              0.7777777777777778,
              "#fb9f3a"
             ],
             [
              0.8888888888888888,
              "#fdca26"
             ],
             [
              1,
              "#f0f921"
             ]
            ],
            "type": "heatmapgl"
           }
          ],
          "histogram": [
           {
            "marker": {
             "pattern": {
              "fillmode": "overlay",
              "size": 10,
              "solidity": 0.2
             }
            },
            "type": "histogram"
           }
          ],
          "histogram2d": [
           {
            "colorbar": {
             "outlinewidth": 0,
             "ticks": ""
            },
            "colorscale": [
             [
              0,
              "#0d0887"
             ],
             [
              0.1111111111111111,
              "#46039f"
             ],
             [
              0.2222222222222222,
              "#7201a8"
             ],
             [
              0.3333333333333333,
              "#9c179e"
             ],
             [
              0.4444444444444444,
              "#bd3786"
             ],
             [
              0.5555555555555556,
              "#d8576b"
             ],
             [
              0.6666666666666666,
              "#ed7953"
             ],
             [
              0.7777777777777778,
              "#fb9f3a"
             ],
             [
              0.8888888888888888,
              "#fdca26"
             ],
             [
              1,
              "#f0f921"
             ]
            ],
            "type": "histogram2d"
           }
          ],
          "histogram2dcontour": [
           {
            "colorbar": {
             "outlinewidth": 0,
             "ticks": ""
            },
            "colorscale": [
             [
              0,
              "#0d0887"
             ],
             [
              0.1111111111111111,
              "#46039f"
             ],
             [
              0.2222222222222222,
              "#7201a8"
             ],
             [
              0.3333333333333333,
              "#9c179e"
             ],
             [
              0.4444444444444444,
              "#bd3786"
             ],
             [
              0.5555555555555556,
              "#d8576b"
             ],
             [
              0.6666666666666666,
              "#ed7953"
             ],
             [
              0.7777777777777778,
              "#fb9f3a"
             ],
             [
              0.8888888888888888,
              "#fdca26"
             ],
             [
              1,
              "#f0f921"
             ]
            ],
            "type": "histogram2dcontour"
           }
          ],
          "mesh3d": [
           {
            "colorbar": {
             "outlinewidth": 0,
             "ticks": ""
            },
            "type": "mesh3d"
           }
          ],
          "parcoords": [
           {
            "line": {
             "colorbar": {
              "outlinewidth": 0,
              "ticks": ""
             }
            },
            "type": "parcoords"
           }
          ],
          "pie": [
           {
            "automargin": true,
            "type": "pie"
           }
          ],
          "scatter": [
           {
            "marker": {
             "colorbar": {
              "outlinewidth": 0,
              "ticks": ""
             }
            },
            "type": "scatter"
           }
          ],
          "scatter3d": [
           {
            "line": {
             "colorbar": {
              "outlinewidth": 0,
              "ticks": ""
             }
            },
            "marker": {
             "colorbar": {
              "outlinewidth": 0,
              "ticks": ""
             }
            },
            "type": "scatter3d"
           }
          ],
          "scattercarpet": [
           {
            "marker": {
             "colorbar": {
              "outlinewidth": 0,
              "ticks": ""
             }
            },
            "type": "scattercarpet"
           }
          ],
          "scattergeo": [
           {
            "marker": {
             "colorbar": {
              "outlinewidth": 0,
              "ticks": ""
             }
            },
            "type": "scattergeo"
           }
          ],
          "scattergl": [
           {
            "marker": {
             "colorbar": {
              "outlinewidth": 0,
              "ticks": ""
             }
            },
            "type": "scattergl"
           }
          ],
          "scattermapbox": [
           {
            "marker": {
             "colorbar": {
              "outlinewidth": 0,
              "ticks": ""
             }
            },
            "type": "scattermapbox"
           }
          ],
          "scatterpolar": [
           {
            "marker": {
             "colorbar": {
              "outlinewidth": 0,
              "ticks": ""
             }
            },
            "type": "scatterpolar"
           }
          ],
          "scatterpolargl": [
           {
            "marker": {
             "colorbar": {
              "outlinewidth": 0,
              "ticks": ""
             }
            },
            "type": "scatterpolargl"
           }
          ],
          "scatterternary": [
           {
            "marker": {
             "colorbar": {
              "outlinewidth": 0,
              "ticks": ""
             }
            },
            "type": "scatterternary"
           }
          ],
          "surface": [
           {
            "colorbar": {
             "outlinewidth": 0,
             "ticks": ""
            },
            "colorscale": [
             [
              0,
              "#0d0887"
             ],
             [
              0.1111111111111111,
              "#46039f"
             ],
             [
              0.2222222222222222,
              "#7201a8"
             ],
             [
              0.3333333333333333,
              "#9c179e"
             ],
             [
              0.4444444444444444,
              "#bd3786"
             ],
             [
              0.5555555555555556,
              "#d8576b"
             ],
             [
              0.6666666666666666,
              "#ed7953"
             ],
             [
              0.7777777777777778,
              "#fb9f3a"
             ],
             [
              0.8888888888888888,
              "#fdca26"
             ],
             [
              1,
              "#f0f921"
             ]
            ],
            "type": "surface"
           }
          ],
          "table": [
           {
            "cells": {
             "fill": {
              "color": "#EBF0F8"
             },
             "line": {
              "color": "white"
             }
            },
            "header": {
             "fill": {
              "color": "#C8D4E3"
             },
             "line": {
              "color": "white"
             }
            },
            "type": "table"
           }
          ]
         },
         "layout": {
          "annotationdefaults": {
           "arrowcolor": "#2a3f5f",
           "arrowhead": 0,
           "arrowwidth": 1
          },
          "autotypenumbers": "strict",
          "coloraxis": {
           "colorbar": {
            "outlinewidth": 0,
            "ticks": ""
           }
          },
          "colorscale": {
           "diverging": [
            [
             0,
             "#8e0152"
            ],
            [
             0.1,
             "#c51b7d"
            ],
            [
             0.2,
             "#de77ae"
            ],
            [
             0.3,
             "#f1b6da"
            ],
            [
             0.4,
             "#fde0ef"
            ],
            [
             0.5,
             "#f7f7f7"
            ],
            [
             0.6,
             "#e6f5d0"
            ],
            [
             0.7,
             "#b8e186"
            ],
            [
             0.8,
             "#7fbc41"
            ],
            [
             0.9,
             "#4d9221"
            ],
            [
             1,
             "#276419"
            ]
           ],
           "sequential": [
            [
             0,
             "#0d0887"
            ],
            [
             0.1111111111111111,
             "#46039f"
            ],
            [
             0.2222222222222222,
             "#7201a8"
            ],
            [
             0.3333333333333333,
             "#9c179e"
            ],
            [
             0.4444444444444444,
             "#bd3786"
            ],
            [
             0.5555555555555556,
             "#d8576b"
            ],
            [
             0.6666666666666666,
             "#ed7953"
            ],
            [
             0.7777777777777778,
             "#fb9f3a"
            ],
            [
             0.8888888888888888,
             "#fdca26"
            ],
            [
             1,
             "#f0f921"
            ]
           ],
           "sequentialminus": [
            [
             0,
             "#0d0887"
            ],
            [
             0.1111111111111111,
             "#46039f"
            ],
            [
             0.2222222222222222,
             "#7201a8"
            ],
            [
             0.3333333333333333,
             "#9c179e"
            ],
            [
             0.4444444444444444,
             "#bd3786"
            ],
            [
             0.5555555555555556,
             "#d8576b"
            ],
            [
             0.6666666666666666,
             "#ed7953"
            ],
            [
             0.7777777777777778,
             "#fb9f3a"
            ],
            [
             0.8888888888888888,
             "#fdca26"
            ],
            [
             1,
             "#f0f921"
            ]
           ]
          },
          "colorway": [
           "#636efa",
           "#EF553B",
           "#00cc96",
           "#ab63fa",
           "#FFA15A",
           "#19d3f3",
           "#FF6692",
           "#B6E880",
           "#FF97FF",
           "#FECB52"
          ],
          "font": {
           "color": "#2a3f5f"
          },
          "geo": {
           "bgcolor": "white",
           "lakecolor": "white",
           "landcolor": "#E5ECF6",
           "showlakes": true,
           "showland": true,
           "subunitcolor": "white"
          },
          "hoverlabel": {
           "align": "left"
          },
          "hovermode": "closest",
          "mapbox": {
           "style": "light"
          },
          "paper_bgcolor": "white",
          "plot_bgcolor": "#E5ECF6",
          "polar": {
           "angularaxis": {
            "gridcolor": "white",
            "linecolor": "white",
            "ticks": ""
           },
           "bgcolor": "#E5ECF6",
           "radialaxis": {
            "gridcolor": "white",
            "linecolor": "white",
            "ticks": ""
           }
          },
          "scene": {
           "xaxis": {
            "backgroundcolor": "#E5ECF6",
            "gridcolor": "white",
            "gridwidth": 2,
            "linecolor": "white",
            "showbackground": true,
            "ticks": "",
            "zerolinecolor": "white"
           },
           "yaxis": {
            "backgroundcolor": "#E5ECF6",
            "gridcolor": "white",
            "gridwidth": 2,
            "linecolor": "white",
            "showbackground": true,
            "ticks": "",
            "zerolinecolor": "white"
           },
           "zaxis": {
            "backgroundcolor": "#E5ECF6",
            "gridcolor": "white",
            "gridwidth": 2,
            "linecolor": "white",
            "showbackground": true,
            "ticks": "",
            "zerolinecolor": "white"
           }
          },
          "shapedefaults": {
           "line": {
            "color": "#2a3f5f"
           }
          },
          "ternary": {
           "aaxis": {
            "gridcolor": "white",
            "linecolor": "white",
            "ticks": ""
           },
           "baxis": {
            "gridcolor": "white",
            "linecolor": "white",
            "ticks": ""
           },
           "bgcolor": "#E5ECF6",
           "caxis": {
            "gridcolor": "white",
            "linecolor": "white",
            "ticks": ""
           }
          },
          "title": {
           "x": 0.05
          },
          "xaxis": {
           "automargin": true,
           "gridcolor": "white",
           "linecolor": "white",
           "ticks": "",
           "title": {
            "standoff": 15
           },
           "zerolinecolor": "white",
           "zerolinewidth": 2
          },
          "yaxis": {
           "automargin": true,
           "gridcolor": "white",
           "linecolor": "white",
           "ticks": "",
           "title": {
            "standoff": 15
           },
           "zerolinecolor": "white",
           "zerolinewidth": 2
          }
         }
        },
        "title": {
         "text": "f(x) vs fortuna solution"
        },
        "xaxis": {
         "anchor": "y",
         "domain": [
          0,
          1
         ],
         "range": [
          1,
          7.4
         ],
         "title": {
          "text": "x"
         }
        },
        "yaxis": {
         "anchor": "x",
         "domain": [
          0,
          1
         ],
         "range": [
          -6,
          6
         ],
         "title": {
          "text": "y"
         }
        }
       }
      }
     },
     "metadata": {},
     "output_type": "display_data"
    },
    {
     "name": "stdout",
     "output_type": "stream",
     "text": [
      "CPU times: user 2.02 s, sys: 179 ms, total: 2.19 s\n",
      "Wall time: 2.01 s\n"
     ]
    }
   ],
   "source": [
    "%%time\n",
    "# the magic %%time has to be the first line in the cell, and reports the total exec time of the cell.\n",
    "\n",
    "import random\n",
    "import numpy as np\n",
    "import plotly.express as px\n",
    "import tqdm\n",
    "\n",
    "\n",
    "def predict(x, theta):\n",
    "    # change to sum of 3 sin() terms. \n",
    "    # use np.sin() and not math.sin().\n",
    "    a, b = theta\n",
    "    return a*x + b # this is the model\n",
    "\n",
    "\n",
    "def sample_theta(size_of_theta):\n",
    "    # Do NOT CHANGE.\n",
    "    theta = np.random.uniform(-4, 4, size=size_of_theta)\n",
    "    return theta\n",
    "\n",
    "\n",
    "def get_loss(y_hat, ys):\n",
    "    # No change needed, returns quadratic loss.\n",
    "    loss = ((y_hat - ys)**2).sum()\n",
    "    return loss\n",
    "\n",
    "xs = np.array([1.0, 1.1, 1.2, 1.3, 1.4, 1.5, 1.6, 1.7, 1.8, 1.9, 2.0, 2.1, 2.2, 2.3, 2.4, 2.5, 2.6, 2.7, 2.8, 2.9, 3.0, 3.1, 3.2, 3.3, 3.4, 3.5, 3.6, 3.7, 3.8, 3.9, 4.0, 4.1, 4.2, 4.3, 4.4, 4.5, 4.6, 4.7, 4.8, 4.9, 5.0, 5.1, 5.2, 5.3, 5.4, 5.5, 5.6, 5.7, 5.8, 5.9, 6.0, 6.1, 6.2, 6.3, 6.4, 6.5, 6.6, 6.7, 6.8, 6.9, 7.0, 7.1, 7.2, 7.3, 7.4])\n",
    "ys = np.array([4.03, 4.19, 4.26, 4.25, 4.17, 4.03, 3.85, 3.63, 3.40, 3.16, 2.93, 2.72, 2.53, 2.39, 2.28, 2.21, 2.18, 2.19, 2.22, 2.27, 2.33, 2.39, 2.44, 2.45, 2.43, 2.36, 2.22, 2.02, 1.75, 1.41, 1.00, 0.52, -0.01, -0.60, -1.22, -1.86, -2.50, -3.13, -3.72, -4.27, -4.75, -5.15, -5.45, -5.65, -5.74, -5.70, -5.55, -5.29, -4.92, -4.44, -3.89, -3.26, -2.58, -1.86, -1.12, -0.39, 0.32, 0.98, 1.60, 2.14, 2.61, 2.99, 3.28, 3.47, 3.57])\n",
    "\n",
    "# \n",
    "ys_h_1 = np.array([15.98, 21.42, 24.1, 23.87, 21.0, 16.11, 10.06, 3.79, -1.8, -6.01, -8.39, -8.82, -7.47, -4.77, -1.3, 2.31, 5.49, 7.81, 9.04, 9.18, 8.44, 7.15, 5.72, 4.54, 3.89, 3.9, 4.52, 5.54, 6.63, 7.39, 7.49, 6.7, 4.97, 2.44, -0.54, -3.48, -5.8, -6.98, -6.61, -4.51, -0.79, 4.2, 9.8, 15.21, 19.57, 22.09, 22.2, 19.63, 14.52, 7.41, -0.83, -9.07, -16.11, -20.83, -22.36, -20.27, -14.59, -5.91, 4.72, 15.9, 26.06, 33.69, 37.58, 36.94, 31.64])\n",
    "ys_h_2 = np.array([[5.87, 5.83, 5.74, 5.62, 5.48, 16.58, 18.21, 18.49, 17.54, 15.54, 4.15, 3.9, 3.65, 3.42, 3.2, -1.9, -3.32, -3.97, -3.91, -3.27, 2.38, 2.36, 2.39, 2.46, 2.57, 2.2, 1.93, 1.22, 0.17, -1.06, 4.18, 4.59, 5.04, 5.52, 6.02, -1.49, 0.74, 3.55, 6.75, 10.06, 9.39, 9.95, 10.5, 11.02, 11.52, 16.0, 12.82, 8.47, 3.21, -2.62, 13.61, 13.76, 13.84, 13.84, 13.77, -24.16, -22.03, -17.9, -11.95, -4.55, 11.63, 10.99, 10.27, 9.47, 8.61]])\n",
    "\n",
    "# change to the size of theta ( 9 ) (for h(x) how many parameters does it have?)\n",
    "n_params = 2\n",
    "\n",
    "best_loss = float('inf')\n",
    "best_theta = sample_theta(n_params)\n",
    "\n",
    "for _ in tqdm.tqdm(range(100000)): \n",
    "    curr_theta = sample_theta(n_params)\n",
    "    y_hat = predict(xs, curr_theta)\n",
    "    curr_loss = get_loss(y_hat, ys)\n",
    "\n",
    "    if best_loss > curr_loss:\n",
    "        best_loss = curr_loss\n",
    "        best_theta = curr_theta\n",
    "            \n",
    "        \n",
    "print(\"best loss:\", best_loss)\n",
    "print(\"theta:\", best_theta)    \n",
    "    \n",
    "    \n",
    "fig = px.line(x=xs, y=ys, title=\"f(x) vs Fortuna solution\")\n",
    "fig.add_scatter(x=xs, y=predict(xs, best_theta), mode='lines', name=\"y_hat\")\n",
    "fig.update_layout(xaxis_range=[xs.min(),xs.max()], yaxis_range=[-6,6])\n",
    "fig.show()\n",
    "\n",
    "\n",
    "# to get a solid estimate -> you should train at least 100 models and take the average performance.\n",
    "\n"
   ]
  },
  {
   "cell_type": "markdown",
   "metadata": {},
   "source": [
    "# Task 5 -- Fortuna For Decision Trees\n",
    "\n",
    "Implement a Decision Tree for solving the XOR problem.   \n",
    "Here: there are 2 real valued inputs, x0, x1  (found in xs).  \n",
    "\n",
    "And the DT should take these two as input and predict an output: 0 or 1.   \n",
    "The true answer can be found in ys_true.\n"
   ]
  },
  {
   "cell_type": "code",
   "execution_count": null,
   "metadata": {},
   "outputs": [],
   "source": [
    "import numpy as np\n",
    "rng = np.random.default_rng(42)\n",
    "n_examples = 40\n",
    "\n",
    "xs = rng.uniform(size=(n_examples, 2))\n",
    "\n",
    "# make a true y\n",
    "b = (xs>0.5).astype(int)\n",
    "ys_true = np.logical_xor(b[:, 0], b[:, 1]).astype(int)\n",
    "\n",
    "\n",
    "\n",
    "##################################\n",
    "# here you implement a Decision Tree that is built using the fortuna algorithm.\n",
    "# The depth of the tree should be less than 4\n",
    "# The DT should reach 100% accuracy.\n",
    "\n",
    "\n",
    "\n"
   ]
  },
  {
   "cell_type": "markdown",
   "metadata": {},
   "source": [
    "# Task 6 -- Best Route App\n",
    "\n",
    "A company called Knut Knut Transport AS is using one of the 4 routes for delivery (see Pitch\\_knutknut\\_transport.pdf for more info).\n",
    "* A -> C -> D  \n",
    "* A -> C -> E  \n",
    "* B -> C -> D  \n",
    "* B -> C -> E  \n",
    "\n",
    "They have discovered that they can transport the goods faster by picking the right route given \n",
    "only the depature time of the transport.\n",
    "\n",
    "In the file \"traffic.jsonl\" on Canvas is the collected data up to the current point in time.\n",
    "So far, they have just selected a route at random, now they want to implement a simple web-api\n",
    "that can help the drivers select the best route. \n",
    "\n",
    "* Using the data found in traffic.jsonl, create a ML model that given an time (hour:min) can select the fastest route to travel. **Be sure to document in a google doc/word/notebook/... how YOU created your ML model.** The ML model should be trained using the Fortuna algorithm.\n",
    "\n",
    "* Download the knut\\_knut\\_app.py found on canvas an implement the function: get\\_the\\_best\\_route\\_as\\_a\\_text\\_informatic(dep\\_hour, dep\\_min) such that the web application works and gives a good estimated time.\n",
    "\n",
    "* The CEO (Knut) want you to estimate how much time they can save from using this new app.\n",
    "* Prepare a VERY short presentation (pdf) on the gains and tech behind the app (random subsample will present for the class)\n",
    "\n",
    "\n",
    "Some hints:\n",
    "* Look closely at the data using both numerical analysis and visual (plotting). \n",
    "* Use the python library datetime to handle time calculations. \n",
    "* Make sure the features are scaled in a way that make sense.\n",
    "* Once you have a model working, use the python library pickle to save/load the model."
   ]
  }
 ],
 "metadata": {
  "kernelspec": {
   "display_name": ".venv",
   "language": "python",
   "name": "python3"
  },
  "language_info": {
   "codemirror_mode": {
    "name": "ipython",
    "version": 3
   },
   "file_extension": ".py",
   "mimetype": "text/x-python",
   "name": "python",
   "nbconvert_exporter": "python",
   "pygments_lexer": "ipython3",
   "version": "3.10.12"
  }
 },
 "nbformat": 4,
 "nbformat_minor": 4
}
